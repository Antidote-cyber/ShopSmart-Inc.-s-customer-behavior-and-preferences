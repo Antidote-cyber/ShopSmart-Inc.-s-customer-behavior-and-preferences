{
 "cells": [
  {
   "cell_type": "markdown",
   "id": "5a7b467a",
   "metadata": {},
   "source": [
    "# ShopSmart Inc\n",
    "ShopSmart Inc. is an e-commerce platform that sells a variety of products online. The company aims to optimize its website and enhance customer satisfaction by understanding customer behavior and preferences. To achieve this goal, ShopSmart Inc. plans to analyze the data collected from its website to gain insights into customer interactions, purchasing patterns, and product preferences.\n",
    "Project Objective: The objective of this project is to utilize data from ShopSmart Inc.'s website to understand customer behavior and preferences. By analyzing the data, the company aims to:\n",
    "1.     Segment customers based on their preferences, geographic location, and purchasing behavior.\n",
    "2.     Enhance website usability and user experience based on insights gained from customer interactions.\n",
    "3.     Optimize product offerings and marketing strategies to improve customer satisfaction and retention.\n",
    "Data Sources:\n",
    "The data for this project will be sourced from ShopSmart Inc.'s website and will include various attributes such as customer IDs, device IDs, transaction details, product information, and timestamps of customer interactions.\n",
    " \n",
    "Methodology:\n",
    "The project will involve data wrangling to preprocess the dataset, followed by exploratory data analysis (EDA) to uncover patterns and trends in customer behavior. Visualization techniques will be used to present the findings effectively.\n",
    "Expected Outcome:\n",
    "By understanding customer behavior and preferences, ShopSmart Inc. aims to optimize its website, product offerings, and marketing strategies to increase customer satisfaction, retention, and ultimately, revenue.\n",
    " \n",
    "You are provided with 5 datasets from different tables, your first task is to merge the datasets, clean and wrangle the dataset, engineer new features from event data. Then identify the following</br>\n",
    "a.     Visit Frequency:</br>\n",
    "How often does this customer visit the website, based on the provided data?</br>\n",
    "Can you identify any patterns or trends in the customer's visit frequency?</br>\n",
    "b. \tLocation Analysis:</br>\n",
    "What is the customer's location based on the provided data?</br>\n",
    "How might the customer's location influence their purchasing behavior?</br>\n",
    "c.  \tOverall Purchase Behavior:</br>\n",
    "Based on the data provided, what insights can you draw about this customer's overall behavior on the website?</br>\n",
    "How might these insights inform marketing strategies or personalized recommendations for this customer?\n",
    "\n"
   ]
  },
  {
   "cell_type": "code",
   "execution_count": 1,
   "id": "e6d5e518",
   "metadata": {
    "ExecuteTime": {
     "end_time": "2024-04-19T22:53:00.492361Z",
     "start_time": "2024-04-19T22:52:54.999872Z"
    }
   },
   "outputs": [],
   "source": [
    "\"\"\"Import basic modules\"\"\"\n",
    "import math\n",
    "import os\n",
    "import gc\n",
    "import random\n",
    "import pprint\n",
    "import numpy as np               # For linear algebra\n",
    "import pandas as pd              # For data manipulation\n",
    "import matplotlib.pyplot as plt  # For 2D visualization\n",
    "%matplotlib inline\n",
    "import seaborn as sns\n",
    "from datetime import datetime\n",
    "import json\n",
    "\n",
    "# Warning Libraries \n",
    "import warnings\n",
    "warnings.filterwarnings(\"ignore\")\n",
    "# warnings.simplefilter(action='ignore', category=FutureWarning)\n",
    "\n",
    "\"\"\"Plotly visualization\"\"\"\n",
    "import plotly.graph_objs as go\n",
    "import plotly.express as px\n",
    "import plotly.io as pio\n",
    "from plotly.subplots import make_subplots\n",
    "from plotly.offline import init_notebook_mode, iplot\n",
    "\n",
    "\"\"\"Printing Markdown for comments\"\"\"\n",
    "from IPython.display import Markdown, display\n",
    "\n",
    "# utility function to print markdown string\n",
    "def printmd(string):\n",
    "    display(Markdown(string))"
   ]
  },
  {
   "cell_type": "markdown",
   "id": "cd1d86f4",
   "metadata": {},
   "source": [
    "# 1. Loading the dataset"
   ]
  },
  {
   "cell_type": "code",
   "execution_count": 2,
   "id": "f6f2b29e",
   "metadata": {
    "ExecuteTime": {
     "end_time": "2024-04-19T22:58:06.056836Z",
     "start_time": "2024-04-19T22:53:00.492361Z"
    },
    "scrolled": true
   },
   "outputs": [],
   "source": [
    "# Load datasets\n",
    "\n",
    "# Load customers data\n",
    "customers = pd.read_csv('https://github.com/godekina/ds-exams/blob/26ec22ee873f9523f7927d34e38546490c58cfca/customer_data/customers.csv?raw=true')\n",
    "\n",
    "# Load events data\n",
    "events = pd.read_csv('https://github.com/godekina/ds-exams/blob/26ec22ee873f9523f7927d34e38546490c58cfca/customer_data/events.csv?raw=true')\n",
    "\n",
    "# Load orders data\n",
    "orders = pd.read_csv('https://github.com/godekina/ds-exams/blob/26ec22ee873f9523f7927d34e38546490c58cfca/customer_data/orders.csv?raw=true')\n",
    "\n",
    "# Load line_items data\n",
    "line_items = pd.read_csv('https://github.com/godekina/ds-exams/blob/26ec22ee873f9523f7927d34e38546490c58cfca/customer_data/line_items.csv?raw=true')\n",
    "\n",
    "# Load products data\n",
    "products = pd.read_csv('https://github.com/godekina/ds-exams/blob/26ec22ee873f9523f7927d34e38546490c58cfca/customer_data/products.csv?raw=true')"
   ]
  },
  {
   "cell_type": "markdown",
   "id": "e0009912",
   "metadata": {},
   "source": [
    "## Exploring each loaded dataset"
   ]
  },
  {
   "cell_type": "code",
   "execution_count": 3,
   "id": "1d64e4f3",
   "metadata": {
    "ExecuteTime": {
     "end_time": "2024-04-19T22:58:06.187393Z",
     "start_time": "2024-04-19T22:58:06.056836Z"
    }
   },
   "outputs": [
    {
     "data": {
      "text/markdown": [
       "The columns contained in the Customer table are: **Index(['customer_id', 'device_id', 'location', 'currency'], dtype='object')**"
      ],
      "text/plain": [
       "<IPython.core.display.Markdown object>"
      ]
     },
     "metadata": {},
     "output_type": "display_data"
    },
    {
     "data": {
      "text/markdown": [
       "The shape of the Customer table is: **(10000, 4)**"
      ],
      "text/plain": [
       "<IPython.core.display.Markdown object>"
      ]
     },
     "metadata": {},
     "output_type": "display_data"
    },
    {
     "data": {
      "text/markdown": [
       "**The first 5 observations of the Customer table is:**"
      ],
      "text/plain": [
       "<IPython.core.display.Markdown object>"
      ]
     },
     "metadata": {},
     "output_type": "display_data"
    },
    {
     "data": {
      "text/html": [
       "<div>\n",
       "<style scoped>\n",
       "    .dataframe tbody tr th:only-of-type {\n",
       "        vertical-align: middle;\n",
       "    }\n",
       "\n",
       "    .dataframe tbody tr th {\n",
       "        vertical-align: top;\n",
       "    }\n",
       "\n",
       "    .dataframe thead th {\n",
       "        text-align: right;\n",
       "    }\n",
       "</style>\n",
       "<table border=\"1\" class=\"dataframe\">\n",
       "  <thead>\n",
       "    <tr style=\"text-align: right;\">\n",
       "      <th></th>\n",
       "      <th>customer_id</th>\n",
       "      <th>device_id</th>\n",
       "      <th>location</th>\n",
       "      <th>currency</th>\n",
       "    </tr>\n",
       "  </thead>\n",
       "  <tbody>\n",
       "    <tr>\n",
       "      <th>0</th>\n",
       "      <td>4f4f5adc-1ca2-4b49-bac4-7b12d6d9d5cf</td>\n",
       "      <td>ef424b22-2393-4708-b065-c68152e8b377</td>\n",
       "      <td>Oman</td>\n",
       "      <td>USD</td>\n",
       "    </tr>\n",
       "    <tr>\n",
       "      <th>1</th>\n",
       "      <td>5cc88463-6a08-48b5-977c-9683a1c607b2</td>\n",
       "      <td>ba53d790-0cfc-4c00-9ab7-a6b104dceb65</td>\n",
       "      <td>United States of America</td>\n",
       "      <td>GBP</td>\n",
       "    </tr>\n",
       "    <tr>\n",
       "      <th>2</th>\n",
       "      <td>cda7bec0-7cbf-4145-baf9-e049bab94504</td>\n",
       "      <td>33b485de-7338-4997-b1d0-b988ba17b245</td>\n",
       "      <td>Saint Helena</td>\n",
       "      <td>NGN</td>\n",
       "    </tr>\n",
       "    <tr>\n",
       "      <th>3</th>\n",
       "      <td>e7f07fd1-05af-494a-ae5a-78c405b6f9c3</td>\n",
       "      <td>428688d6-31e6-4c73-a5d0-c8e849ccf6a3</td>\n",
       "      <td>Djibouti</td>\n",
       "      <td>NGN</td>\n",
       "    </tr>\n",
       "    <tr>\n",
       "      <th>4</th>\n",
       "      <td>873618f1-c201-4f8c-94bc-4cfc3d6d8cc8</td>\n",
       "      <td>1e939baf-c71d-444d-a832-d7dc3a6fcd0d</td>\n",
       "      <td>Guinea-Bissau</td>\n",
       "      <td>GBP</td>\n",
       "    </tr>\n",
       "  </tbody>\n",
       "</table>\n",
       "</div>"
      ],
      "text/plain": [
       "                            customer_id                             device_id  \\\n",
       "0  4f4f5adc-1ca2-4b49-bac4-7b12d6d9d5cf  ef424b22-2393-4708-b065-c68152e8b377   \n",
       "1  5cc88463-6a08-48b5-977c-9683a1c607b2  ba53d790-0cfc-4c00-9ab7-a6b104dceb65   \n",
       "2  cda7bec0-7cbf-4145-baf9-e049bab94504  33b485de-7338-4997-b1d0-b988ba17b245   \n",
       "3  e7f07fd1-05af-494a-ae5a-78c405b6f9c3  428688d6-31e6-4c73-a5d0-c8e849ccf6a3   \n",
       "4  873618f1-c201-4f8c-94bc-4cfc3d6d8cc8  1e939baf-c71d-444d-a832-d7dc3a6fcd0d   \n",
       "\n",
       "                   location currency  \n",
       "0                      Oman      USD  \n",
       "1  United States of America      GBP  \n",
       "2              Saint Helena      NGN  \n",
       "3                  Djibouti      NGN  \n",
       "4             Guinea-Bissau      GBP  "
      ]
     },
     "metadata": {},
     "output_type": "display_data"
    },
    {
     "data": {
      "text/markdown": [
       "The columns contained in the Events table are: **Index(['event_id', 'customer_id', 'event_data', 'event_timestamp'], dtype='object')**"
      ],
      "text/plain": [
       "<IPython.core.display.Markdown object>"
      ]
     },
     "metadata": {},
     "output_type": "display_data"
    },
    {
     "data": {
      "text/markdown": [
       "The shape of the Events table is: **(147208, 4)**"
      ],
      "text/plain": [
       "<IPython.core.display.Markdown object>"
      ]
     },
     "metadata": {},
     "output_type": "display_data"
    },
    {
     "data": {
      "text/markdown": [
       "**The first 5 observations of the Events table is:**"
      ],
      "text/plain": [
       "<IPython.core.display.Markdown object>"
      ]
     },
     "metadata": {},
     "output_type": "display_data"
    },
    {
     "data": {
      "text/html": [
       "<div>\n",
       "<style scoped>\n",
       "    .dataframe tbody tr th:only-of-type {\n",
       "        vertical-align: middle;\n",
       "    }\n",
       "\n",
       "    .dataframe tbody tr th {\n",
       "        vertical-align: top;\n",
       "    }\n",
       "\n",
       "    .dataframe thead th {\n",
       "        text-align: right;\n",
       "    }\n",
       "</style>\n",
       "<table border=\"1\" class=\"dataframe\">\n",
       "  <thead>\n",
       "    <tr style=\"text-align: right;\">\n",
       "      <th></th>\n",
       "      <th>event_id</th>\n",
       "      <th>customer_id</th>\n",
       "      <th>event_data</th>\n",
       "      <th>event_timestamp</th>\n",
       "    </tr>\n",
       "  </thead>\n",
       "  <tbody>\n",
       "    <tr>\n",
       "      <th>0</th>\n",
       "      <td>14753</td>\n",
       "      <td>4f4f5adc-1ca2-4b49-bac4-7b12d6d9d5cf</td>\n",
       "      <td>{\"timestamp\": \"2024-03-21T12:47:11.012084\", \"e...</td>\n",
       "      <td>2024-03-21 12:47:11.012084</td>\n",
       "    </tr>\n",
       "    <tr>\n",
       "      <th>1</th>\n",
       "      <td>14754</td>\n",
       "      <td>4f4f5adc-1ca2-4b49-bac4-7b12d6d9d5cf</td>\n",
       "      <td>{\"timestamp\": \"2024-03-27T11:35:50.208930\", \"e...</td>\n",
       "      <td>2024-03-27 11:35:50.208930</td>\n",
       "    </tr>\n",
       "    <tr>\n",
       "      <th>2</th>\n",
       "      <td>14755</td>\n",
       "      <td>4f4f5adc-1ca2-4b49-bac4-7b12d6d9d5cf</td>\n",
       "      <td>{\"timestamp\": \"2024-03-30T04:03:10.392205\", \"e...</td>\n",
       "      <td>2024-03-30 04:03:10.392205</td>\n",
       "    </tr>\n",
       "    <tr>\n",
       "      <th>3</th>\n",
       "      <td>14756</td>\n",
       "      <td>4f4f5adc-1ca2-4b49-bac4-7b12d6d9d5cf</td>\n",
       "      <td>{\"item_id\": 12, \"quantity\": 5, \"timestamp\": \"2...</td>\n",
       "      <td>2024-03-30 04:03:10.394393</td>\n",
       "    </tr>\n",
       "    <tr>\n",
       "      <th>4</th>\n",
       "      <td>14757</td>\n",
       "      <td>4f4f5adc-1ca2-4b49-bac4-7b12d6d9d5cf</td>\n",
       "      <td>{\"item_id\": 11, \"quantity\": 1, \"timestamp\": \"2...</td>\n",
       "      <td>2024-03-30 04:03:10.394398</td>\n",
       "    </tr>\n",
       "  </tbody>\n",
       "</table>\n",
       "</div>"
      ],
      "text/plain": [
       "   event_id                           customer_id  \\\n",
       "0     14753  4f4f5adc-1ca2-4b49-bac4-7b12d6d9d5cf   \n",
       "1     14754  4f4f5adc-1ca2-4b49-bac4-7b12d6d9d5cf   \n",
       "2     14755  4f4f5adc-1ca2-4b49-bac4-7b12d6d9d5cf   \n",
       "3     14756  4f4f5adc-1ca2-4b49-bac4-7b12d6d9d5cf   \n",
       "4     14757  4f4f5adc-1ca2-4b49-bac4-7b12d6d9d5cf   \n",
       "\n",
       "                                          event_data  \\\n",
       "0  {\"timestamp\": \"2024-03-21T12:47:11.012084\", \"e...   \n",
       "1  {\"timestamp\": \"2024-03-27T11:35:50.208930\", \"e...   \n",
       "2  {\"timestamp\": \"2024-03-30T04:03:10.392205\", \"e...   \n",
       "3  {\"item_id\": 12, \"quantity\": 5, \"timestamp\": \"2...   \n",
       "4  {\"item_id\": 11, \"quantity\": 1, \"timestamp\": \"2...   \n",
       "\n",
       "              event_timestamp  \n",
       "0  2024-03-21 12:47:11.012084  \n",
       "1  2024-03-27 11:35:50.208930  \n",
       "2  2024-03-30 04:03:10.392205  \n",
       "3  2024-03-30 04:03:10.394393  \n",
       "4  2024-03-30 04:03:10.394398  "
      ]
     },
     "metadata": {},
     "output_type": "display_data"
    },
    {
     "data": {
      "text/markdown": [
       "The columns contained in the Line Items table are: **Index(['line_item_id', 'order_id', 'item_id', 'quantity'], dtype='object')**"
      ],
      "text/plain": [
       "<IPython.core.display.Markdown object>"
      ]
     },
     "metadata": {},
     "output_type": "display_data"
    },
    {
     "data": {
      "text/markdown": [
       "The shape of the Line Items table is: **(31741, 4)**"
      ],
      "text/plain": [
       "<IPython.core.display.Markdown object>"
      ]
     },
     "metadata": {},
     "output_type": "display_data"
    },
    {
     "data": {
      "text/markdown": [
       "**The first 5 observations of the Line Items table is:**"
      ],
      "text/plain": [
       "<IPython.core.display.Markdown object>"
      ]
     },
     "metadata": {},
     "output_type": "display_data"
    },
    {
     "data": {
      "text/html": [
       "<div>\n",
       "<style scoped>\n",
       "    .dataframe tbody tr th:only-of-type {\n",
       "        vertical-align: middle;\n",
       "    }\n",
       "\n",
       "    .dataframe tbody tr th {\n",
       "        vertical-align: top;\n",
       "    }\n",
       "\n",
       "    .dataframe thead th {\n",
       "        text-align: right;\n",
       "    }\n",
       "</style>\n",
       "<table border=\"1\" class=\"dataframe\">\n",
       "  <thead>\n",
       "    <tr style=\"text-align: right;\">\n",
       "      <th></th>\n",
       "      <th>line_item_id</th>\n",
       "      <th>order_id</th>\n",
       "      <th>item_id</th>\n",
       "      <th>quantity</th>\n",
       "    </tr>\n",
       "  </thead>\n",
       "  <tbody>\n",
       "    <tr>\n",
       "      <th>0</th>\n",
       "      <td>3201</td>\n",
       "      <td>9e950ce3-2e12-479c-a051-493c1a497d49</td>\n",
       "      <td>4</td>\n",
       "      <td>2</td>\n",
       "    </tr>\n",
       "    <tr>\n",
       "      <th>1</th>\n",
       "      <td>3202</td>\n",
       "      <td>9e950ce3-2e12-479c-a051-493c1a497d49</td>\n",
       "      <td>5</td>\n",
       "      <td>4</td>\n",
       "    </tr>\n",
       "    <tr>\n",
       "      <th>2</th>\n",
       "      <td>3203</td>\n",
       "      <td>9e950ce3-2e12-479c-a051-493c1a497d49</td>\n",
       "      <td>9</td>\n",
       "      <td>5</td>\n",
       "    </tr>\n",
       "    <tr>\n",
       "      <th>3</th>\n",
       "      <td>3204</td>\n",
       "      <td>9e950ce3-2e12-479c-a051-493c1a497d49</td>\n",
       "      <td>12</td>\n",
       "      <td>1</td>\n",
       "    </tr>\n",
       "    <tr>\n",
       "      <th>4</th>\n",
       "      <td>3205</td>\n",
       "      <td>9e950ce3-2e12-479c-a051-493c1a497d49</td>\n",
       "      <td>6</td>\n",
       "      <td>2</td>\n",
       "    </tr>\n",
       "  </tbody>\n",
       "</table>\n",
       "</div>"
      ],
      "text/plain": [
       "   line_item_id                              order_id  item_id  quantity\n",
       "0          3201  9e950ce3-2e12-479c-a051-493c1a497d49        4         2\n",
       "1          3202  9e950ce3-2e12-479c-a051-493c1a497d49        5         4\n",
       "2          3203  9e950ce3-2e12-479c-a051-493c1a497d49        9         5\n",
       "3          3204  9e950ce3-2e12-479c-a051-493c1a497d49       12         1\n",
       "4          3205  9e950ce3-2e12-479c-a051-493c1a497d49        6         2"
      ]
     },
     "metadata": {},
     "output_type": "display_data"
    },
    {
     "data": {
      "text/markdown": [
       "The columns contained in the Orders table are: **Index(['order_id', 'customer_id', 'status', 'checked_out_at'], dtype='object')**"
      ],
      "text/plain": [
       "<IPython.core.display.Markdown object>"
      ]
     },
     "metadata": {},
     "output_type": "display_data"
    },
    {
     "data": {
      "text/markdown": [
       "The shape of the Orders table is: **(9165, 4)**"
      ],
      "text/plain": [
       "<IPython.core.display.Markdown object>"
      ]
     },
     "metadata": {},
     "output_type": "display_data"
    },
    {
     "data": {
      "text/markdown": [
       "**The first 5 observations of the Orders table is:**"
      ],
      "text/plain": [
       "<IPython.core.display.Markdown object>"
      ]
     },
     "metadata": {},
     "output_type": "display_data"
    },
    {
     "data": {
      "text/html": [
       "<div>\n",
       "<style scoped>\n",
       "    .dataframe tbody tr th:only-of-type {\n",
       "        vertical-align: middle;\n",
       "    }\n",
       "\n",
       "    .dataframe tbody tr th {\n",
       "        vertical-align: top;\n",
       "    }\n",
       "\n",
       "    .dataframe thead th {\n",
       "        text-align: right;\n",
       "    }\n",
       "</style>\n",
       "<table border=\"1\" class=\"dataframe\">\n",
       "  <thead>\n",
       "    <tr style=\"text-align: right;\">\n",
       "      <th></th>\n",
       "      <th>order_id</th>\n",
       "      <th>customer_id</th>\n",
       "      <th>status</th>\n",
       "      <th>checked_out_at</th>\n",
       "    </tr>\n",
       "  </thead>\n",
       "  <tbody>\n",
       "    <tr>\n",
       "      <th>0</th>\n",
       "      <td>5e57de16-d33c-4126-bf0b-da65449cc3d1</td>\n",
       "      <td>4f4f5adc-1ca2-4b49-bac4-7b12d6d9d5cf</td>\n",
       "      <td>cancelled</td>\n",
       "      <td>2024-03-30 04:12:10.394413</td>\n",
       "    </tr>\n",
       "    <tr>\n",
       "      <th>1</th>\n",
       "      <td>62a67177-1d7f-44fe-86f8-622686d68f69</td>\n",
       "      <td>5cc88463-6a08-48b5-977c-9683a1c607b2</td>\n",
       "      <td>cancelled</td>\n",
       "      <td>2024-03-30 04:15:10.403885</td>\n",
       "    </tr>\n",
       "    <tr>\n",
       "      <th>2</th>\n",
       "      <td>9e950ce3-2e12-479c-a051-493c1a497d49</td>\n",
       "      <td>cda7bec0-7cbf-4145-baf9-e049bab94504</td>\n",
       "      <td>success</td>\n",
       "      <td>2024-03-30 04:19:10.406794</td>\n",
       "    </tr>\n",
       "    <tr>\n",
       "      <th>3</th>\n",
       "      <td>cddddfea-27ef-437f-817d-8f849d604c3c</td>\n",
       "      <td>e7f07fd1-05af-494a-ae5a-78c405b6f9c3</td>\n",
       "      <td>failed</td>\n",
       "      <td>2024-03-30 04:09:10.411149</td>\n",
       "    </tr>\n",
       "    <tr>\n",
       "      <th>4</th>\n",
       "      <td>170a66c8-6b39-468c-935c-445eb6be9fdf</td>\n",
       "      <td>873618f1-c201-4f8c-94bc-4cfc3d6d8cc8</td>\n",
       "      <td>cancelled</td>\n",
       "      <td>2024-03-30 04:09:10.412870</td>\n",
       "    </tr>\n",
       "  </tbody>\n",
       "</table>\n",
       "</div>"
      ],
      "text/plain": [
       "                               order_id                           customer_id  \\\n",
       "0  5e57de16-d33c-4126-bf0b-da65449cc3d1  4f4f5adc-1ca2-4b49-bac4-7b12d6d9d5cf   \n",
       "1  62a67177-1d7f-44fe-86f8-622686d68f69  5cc88463-6a08-48b5-977c-9683a1c607b2   \n",
       "2  9e950ce3-2e12-479c-a051-493c1a497d49  cda7bec0-7cbf-4145-baf9-e049bab94504   \n",
       "3  cddddfea-27ef-437f-817d-8f849d604c3c  e7f07fd1-05af-494a-ae5a-78c405b6f9c3   \n",
       "4  170a66c8-6b39-468c-935c-445eb6be9fdf  873618f1-c201-4f8c-94bc-4cfc3d6d8cc8   \n",
       "\n",
       "      status              checked_out_at  \n",
       "0  cancelled  2024-03-30 04:12:10.394413  \n",
       "1  cancelled  2024-03-30 04:15:10.403885  \n",
       "2    success  2024-03-30 04:19:10.406794  \n",
       "3     failed  2024-03-30 04:09:10.411149  \n",
       "4  cancelled  2024-03-30 04:09:10.412870  "
      ]
     },
     "metadata": {},
     "output_type": "display_data"
    },
    {
     "data": {
      "text/markdown": [
       "The columns contained in the Product table are: **Index(['id', 'name', 'price'], dtype='object')**"
      ],
      "text/plain": [
       "<IPython.core.display.Markdown object>"
      ]
     },
     "metadata": {},
     "output_type": "display_data"
    },
    {
     "data": {
      "text/markdown": [
       "The shape of the Product table is: **(15, 3)**"
      ],
      "text/plain": [
       "<IPython.core.display.Markdown object>"
      ]
     },
     "metadata": {},
     "output_type": "display_data"
    },
    {
     "data": {
      "text/markdown": [
       "**The first 5 observations of the Product table is:**"
      ],
      "text/plain": [
       "<IPython.core.display.Markdown object>"
      ]
     },
     "metadata": {},
     "output_type": "display_data"
    },
    {
     "data": {
      "text/html": [
       "<div>\n",
       "<style scoped>\n",
       "    .dataframe tbody tr th:only-of-type {\n",
       "        vertical-align: middle;\n",
       "    }\n",
       "\n",
       "    .dataframe tbody tr th {\n",
       "        vertical-align: top;\n",
       "    }\n",
       "\n",
       "    .dataframe thead th {\n",
       "        text-align: right;\n",
       "    }\n",
       "</style>\n",
       "<table border=\"1\" class=\"dataframe\">\n",
       "  <thead>\n",
       "    <tr style=\"text-align: right;\">\n",
       "      <th></th>\n",
       "      <th>id</th>\n",
       "      <th>name</th>\n",
       "      <th>price</th>\n",
       "    </tr>\n",
       "  </thead>\n",
       "  <tbody>\n",
       "    <tr>\n",
       "      <th>0</th>\n",
       "      <td>1</td>\n",
       "      <td>iPhone 13</td>\n",
       "      <td>1099.99</td>\n",
       "    </tr>\n",
       "    <tr>\n",
       "      <th>1</th>\n",
       "      <td>2</td>\n",
       "      <td>Samsung Galaxy S21</td>\n",
       "      <td>899.99</td>\n",
       "    </tr>\n",
       "    <tr>\n",
       "      <th>2</th>\n",
       "      <td>3</td>\n",
       "      <td>Sony PlayStation 5</td>\n",
       "      <td>499.99</td>\n",
       "    </tr>\n",
       "    <tr>\n",
       "      <th>3</th>\n",
       "      <td>4</td>\n",
       "      <td>Microsoft Xbox Series X</td>\n",
       "      <td>499.99</td>\n",
       "    </tr>\n",
       "    <tr>\n",
       "      <th>4</th>\n",
       "      <td>5</td>\n",
       "      <td>Nike Air Max 270</td>\n",
       "      <td>129.99</td>\n",
       "    </tr>\n",
       "  </tbody>\n",
       "</table>\n",
       "</div>"
      ],
      "text/plain": [
       "   id                     name    price\n",
       "0   1                iPhone 13  1099.99\n",
       "1   2       Samsung Galaxy S21   899.99\n",
       "2   3       Sony PlayStation 5   499.99\n",
       "3   4  Microsoft Xbox Series X   499.99\n",
       "4   5         Nike Air Max 270   129.99"
      ]
     },
     "metadata": {},
     "output_type": "display_data"
    }
   ],
   "source": [
    "printmd(f\"The columns contained in the Customer table are: **{customers.columns}**\")\n",
    "printmd(f\"The shape of the Customer table is: **{customers.shape}**\")\n",
    "printmd(\"**The first 5 observations of the Customer table is:**\")\n",
    "display(customers.head())\n",
    "\n",
    "printmd(f\"The columns contained in the Events table are: **{events.columns}**\")\n",
    "printmd(f\"The shape of the Events table is: **{events.shape}**\")\n",
    "printmd(\"**The first 5 observations of the Events table is:**\")\n",
    "display(events.head())\n",
    "\n",
    "printmd(f\"The columns contained in the Line Items table are: **{line_items.columns}**\")\n",
    "printmd(f\"The shape of the Line Items table is: **{line_items.shape}**\")\n",
    "printmd(\"**The first 5 observations of the Line Items table is:**\")\n",
    "display(line_items.head())\n",
    "\n",
    "printmd(f\"The columns contained in the Orders table are: **{orders.columns}**\")\n",
    "printmd(f\"The shape of the Orders table is: **{orders.shape}**\")\n",
    "printmd(\"**The first 5 observations of the Orders table is:**\")\n",
    "display(orders.head())\n",
    "\n",
    "printmd(f\"The columns contained in the Product table are: **{products.columns}**\")\n",
    "printmd(f\"The shape of the Product table is: **{products.shape}**\")\n",
    "printmd(\"**The first 5 observations of the Product table is:**\")\n",
    "display(products.head())\n"
   ]
  },
  {
   "cell_type": "markdown",
   "id": "3953320e",
   "metadata": {},
   "source": [
    "I observed that the event table has an event_data column which contain `timestamp` and `event_type`, So we need to extract the `event_type` column and discard the `timestamp` becuase it's the same with the `event_timestamp`"
   ]
  },
  {
   "cell_type": "code",
   "execution_count": 4,
   "id": "21143f33",
   "metadata": {
    "ExecuteTime": {
     "end_time": "2024-04-19T22:58:07.267986Z",
     "start_time": "2024-04-19T22:58:06.187393Z"
    }
   },
   "outputs": [],
   "source": [
    "# Convert the 'event_data' column to dictionaries\n",
    "events['event_data'] = events['event_data'].apply(json.loads)\n",
    "\n",
    "# Extract the 'event_type' from each dictionary\n",
    "events['event_type'] = events['event_data'].apply(lambda x: x.get('event_type'))\n"
   ]
  },
  {
   "cell_type": "code",
   "execution_count": 5,
   "id": "815f464a",
   "metadata": {
    "ExecuteTime": {
     "end_time": "2024-04-19T22:58:07.368470Z",
     "start_time": "2024-04-19T22:58:07.270021Z"
    }
   },
   "outputs": [
    {
     "data": {
      "text/html": [
       "<div>\n",
       "<style scoped>\n",
       "    .dataframe tbody tr th:only-of-type {\n",
       "        vertical-align: middle;\n",
       "    }\n",
       "\n",
       "    .dataframe tbody tr th {\n",
       "        vertical-align: top;\n",
       "    }\n",
       "\n",
       "    .dataframe thead th {\n",
       "        text-align: right;\n",
       "    }\n",
       "</style>\n",
       "<table border=\"1\" class=\"dataframe\">\n",
       "  <thead>\n",
       "    <tr style=\"text-align: right;\">\n",
       "      <th></th>\n",
       "      <th>event_id</th>\n",
       "      <th>customer_id</th>\n",
       "      <th>event_data</th>\n",
       "      <th>event_timestamp</th>\n",
       "      <th>event_type</th>\n",
       "    </tr>\n",
       "  </thead>\n",
       "  <tbody>\n",
       "    <tr>\n",
       "      <th>0</th>\n",
       "      <td>14753</td>\n",
       "      <td>4f4f5adc-1ca2-4b49-bac4-7b12d6d9d5cf</td>\n",
       "      <td>{'timestamp': '2024-03-21T12:47:11.012084', 'e...</td>\n",
       "      <td>2024-03-21 12:47:11.012084</td>\n",
       "      <td>visit</td>\n",
       "    </tr>\n",
       "    <tr>\n",
       "      <th>1</th>\n",
       "      <td>14754</td>\n",
       "      <td>4f4f5adc-1ca2-4b49-bac4-7b12d6d9d5cf</td>\n",
       "      <td>{'timestamp': '2024-03-27T11:35:50.208930', 'e...</td>\n",
       "      <td>2024-03-27 11:35:50.208930</td>\n",
       "      <td>visit</td>\n",
       "    </tr>\n",
       "    <tr>\n",
       "      <th>2</th>\n",
       "      <td>14755</td>\n",
       "      <td>4f4f5adc-1ca2-4b49-bac4-7b12d6d9d5cf</td>\n",
       "      <td>{'timestamp': '2024-03-30T04:03:10.392205', 'e...</td>\n",
       "      <td>2024-03-30 04:03:10.392205</td>\n",
       "      <td>visit</td>\n",
       "    </tr>\n",
       "    <tr>\n",
       "      <th>3</th>\n",
       "      <td>14756</td>\n",
       "      <td>4f4f5adc-1ca2-4b49-bac4-7b12d6d9d5cf</td>\n",
       "      <td>{'item_id': 12, 'quantity': 5, 'timestamp': '2...</td>\n",
       "      <td>2024-03-30 04:03:10.394393</td>\n",
       "      <td>add_to_cart</td>\n",
       "    </tr>\n",
       "    <tr>\n",
       "      <th>4</th>\n",
       "      <td>14757</td>\n",
       "      <td>4f4f5adc-1ca2-4b49-bac4-7b12d6d9d5cf</td>\n",
       "      <td>{'item_id': 11, 'quantity': 1, 'timestamp': '2...</td>\n",
       "      <td>2024-03-30 04:03:10.394398</td>\n",
       "      <td>add_to_cart</td>\n",
       "    </tr>\n",
       "  </tbody>\n",
       "</table>\n",
       "</div>"
      ],
      "text/plain": [
       "   event_id                           customer_id  \\\n",
       "0     14753  4f4f5adc-1ca2-4b49-bac4-7b12d6d9d5cf   \n",
       "1     14754  4f4f5adc-1ca2-4b49-bac4-7b12d6d9d5cf   \n",
       "2     14755  4f4f5adc-1ca2-4b49-bac4-7b12d6d9d5cf   \n",
       "3     14756  4f4f5adc-1ca2-4b49-bac4-7b12d6d9d5cf   \n",
       "4     14757  4f4f5adc-1ca2-4b49-bac4-7b12d6d9d5cf   \n",
       "\n",
       "                                          event_data  \\\n",
       "0  {'timestamp': '2024-03-21T12:47:11.012084', 'e...   \n",
       "1  {'timestamp': '2024-03-27T11:35:50.208930', 'e...   \n",
       "2  {'timestamp': '2024-03-30T04:03:10.392205', 'e...   \n",
       "3  {'item_id': 12, 'quantity': 5, 'timestamp': '2...   \n",
       "4  {'item_id': 11, 'quantity': 1, 'timestamp': '2...   \n",
       "\n",
       "              event_timestamp   event_type  \n",
       "0  2024-03-21 12:47:11.012084        visit  \n",
       "1  2024-03-27 11:35:50.208930        visit  \n",
       "2  2024-03-30 04:03:10.392205        visit  \n",
       "3  2024-03-30 04:03:10.394393  add_to_cart  \n",
       "4  2024-03-30 04:03:10.394398  add_to_cart  "
      ]
     },
     "execution_count": 5,
     "metadata": {},
     "output_type": "execute_result"
    }
   ],
   "source": [
    "events.head()"
   ]
  },
  {
   "cell_type": "markdown",
   "id": "b4da3e9a",
   "metadata": {},
   "source": [
    "## Merging the dataset"
   ]
  },
  {
   "cell_type": "code",
   "execution_count": 6,
   "id": "8fb93d86",
   "metadata": {
    "ExecuteTime": {
     "end_time": "2024-04-19T22:58:23.240417Z",
     "start_time": "2024-04-19T22:58:07.368470Z"
    }
   },
   "outputs": [
    {
     "data": {
      "text/markdown": [
       "**Merging the datasets together**"
      ],
      "text/plain": [
       "<IPython.core.display.Markdown object>"
      ]
     },
     "metadata": {},
     "output_type": "display_data"
    },
    {
     "data": {
      "text/markdown": [
       "*Merging the Dataset done!!!*"
      ],
      "text/plain": [
       "<IPython.core.display.Markdown object>"
      ]
     },
     "metadata": {},
     "output_type": "display_data"
    }
   ],
   "source": [
    "printmd(\"**Merging the datasets together**\")\n",
    "\n",
    "# Merging based on the ER diagram\n",
    "customers_events = pd.merge(customers, events, on='customer_id', how='left')\n",
    "customers_events_orders = pd.merge(customers_events,orders, on='customer_id', how='left')\n",
    "customers_events_orders_line_items = pd.merge(customers_events_orders,line_items, on='order_id', how='left')\n",
    "customers_events_orders_line_items_product = pd.merge(customers_events_orders_line_items, products, left_on='item_id', right_on='id', how='left')\n",
    "\n",
    "# Save the merged dataset as a CSV file\n",
    "customers_events_orders_line_items_product.to_csv('customer_data.csv', index=False)\n",
    "\n",
    "printmd(\"*Merging the Dataset done!!!*\")"
   ]
  },
  {
   "cell_type": "code",
   "execution_count": 7,
   "id": "fc028ef6",
   "metadata": {
    "ExecuteTime": {
     "end_time": "2024-04-19T22:58:26.736609Z",
     "start_time": "2024-04-19T22:58:23.240417Z"
    }
   },
   "outputs": [
    {
     "data": {
      "text/html": [
       "<div>\n",
       "<style scoped>\n",
       "    .dataframe tbody tr th:only-of-type {\n",
       "        vertical-align: middle;\n",
       "    }\n",
       "\n",
       "    .dataframe tbody tr th {\n",
       "        vertical-align: top;\n",
       "    }\n",
       "\n",
       "    .dataframe thead th {\n",
       "        text-align: right;\n",
       "    }\n",
       "</style>\n",
       "<table border=\"1\" class=\"dataframe\">\n",
       "  <thead>\n",
       "    <tr style=\"text-align: right;\">\n",
       "      <th></th>\n",
       "      <th>customer_id</th>\n",
       "      <th>device_id</th>\n",
       "      <th>location</th>\n",
       "      <th>currency</th>\n",
       "      <th>event_id</th>\n",
       "      <th>event_data</th>\n",
       "      <th>event_timestamp</th>\n",
       "      <th>event_type</th>\n",
       "      <th>order_id</th>\n",
       "      <th>status</th>\n",
       "      <th>checked_out_at</th>\n",
       "      <th>line_item_id</th>\n",
       "      <th>item_id</th>\n",
       "      <th>quantity</th>\n",
       "      <th>id</th>\n",
       "      <th>name</th>\n",
       "      <th>price</th>\n",
       "    </tr>\n",
       "  </thead>\n",
       "  <tbody>\n",
       "    <tr>\n",
       "      <th>0</th>\n",
       "      <td>4f4f5adc-1ca2-4b49-bac4-7b12d6d9d5cf</td>\n",
       "      <td>ef424b22-2393-4708-b065-c68152e8b377</td>\n",
       "      <td>Oman</td>\n",
       "      <td>USD</td>\n",
       "      <td>14753</td>\n",
       "      <td>{'timestamp': '2024-03-21T12:47:11.012084', 'e...</td>\n",
       "      <td>2024-03-21 12:47:11.012084</td>\n",
       "      <td>visit</td>\n",
       "      <td>5e57de16-d33c-4126-bf0b-da65449cc3d1</td>\n",
       "      <td>cancelled</td>\n",
       "      <td>2024-03-30 04:12:10.394413</td>\n",
       "      <td>NaN</td>\n",
       "      <td>NaN</td>\n",
       "      <td>NaN</td>\n",
       "      <td>NaN</td>\n",
       "      <td>NaN</td>\n",
       "      <td>NaN</td>\n",
       "    </tr>\n",
       "    <tr>\n",
       "      <th>1</th>\n",
       "      <td>4f4f5adc-1ca2-4b49-bac4-7b12d6d9d5cf</td>\n",
       "      <td>ef424b22-2393-4708-b065-c68152e8b377</td>\n",
       "      <td>Oman</td>\n",
       "      <td>USD</td>\n",
       "      <td>14754</td>\n",
       "      <td>{'timestamp': '2024-03-27T11:35:50.208930', 'e...</td>\n",
       "      <td>2024-03-27 11:35:50.208930</td>\n",
       "      <td>visit</td>\n",
       "      <td>5e57de16-d33c-4126-bf0b-da65449cc3d1</td>\n",
       "      <td>cancelled</td>\n",
       "      <td>2024-03-30 04:12:10.394413</td>\n",
       "      <td>NaN</td>\n",
       "      <td>NaN</td>\n",
       "      <td>NaN</td>\n",
       "      <td>NaN</td>\n",
       "      <td>NaN</td>\n",
       "      <td>NaN</td>\n",
       "    </tr>\n",
       "    <tr>\n",
       "      <th>2</th>\n",
       "      <td>4f4f5adc-1ca2-4b49-bac4-7b12d6d9d5cf</td>\n",
       "      <td>ef424b22-2393-4708-b065-c68152e8b377</td>\n",
       "      <td>Oman</td>\n",
       "      <td>USD</td>\n",
       "      <td>14755</td>\n",
       "      <td>{'timestamp': '2024-03-30T04:03:10.392205', 'e...</td>\n",
       "      <td>2024-03-30 04:03:10.392205</td>\n",
       "      <td>visit</td>\n",
       "      <td>5e57de16-d33c-4126-bf0b-da65449cc3d1</td>\n",
       "      <td>cancelled</td>\n",
       "      <td>2024-03-30 04:12:10.394413</td>\n",
       "      <td>NaN</td>\n",
       "      <td>NaN</td>\n",
       "      <td>NaN</td>\n",
       "      <td>NaN</td>\n",
       "      <td>NaN</td>\n",
       "      <td>NaN</td>\n",
       "    </tr>\n",
       "    <tr>\n",
       "      <th>3</th>\n",
       "      <td>4f4f5adc-1ca2-4b49-bac4-7b12d6d9d5cf</td>\n",
       "      <td>ef424b22-2393-4708-b065-c68152e8b377</td>\n",
       "      <td>Oman</td>\n",
       "      <td>USD</td>\n",
       "      <td>14756</td>\n",
       "      <td>{'item_id': 12, 'quantity': 5, 'timestamp': '2...</td>\n",
       "      <td>2024-03-30 04:03:10.394393</td>\n",
       "      <td>add_to_cart</td>\n",
       "      <td>5e57de16-d33c-4126-bf0b-da65449cc3d1</td>\n",
       "      <td>cancelled</td>\n",
       "      <td>2024-03-30 04:12:10.394413</td>\n",
       "      <td>NaN</td>\n",
       "      <td>NaN</td>\n",
       "      <td>NaN</td>\n",
       "      <td>NaN</td>\n",
       "      <td>NaN</td>\n",
       "      <td>NaN</td>\n",
       "    </tr>\n",
       "    <tr>\n",
       "      <th>4</th>\n",
       "      <td>4f4f5adc-1ca2-4b49-bac4-7b12d6d9d5cf</td>\n",
       "      <td>ef424b22-2393-4708-b065-c68152e8b377</td>\n",
       "      <td>Oman</td>\n",
       "      <td>USD</td>\n",
       "      <td>14757</td>\n",
       "      <td>{'item_id': 11, 'quantity': 1, 'timestamp': '2...</td>\n",
       "      <td>2024-03-30 04:03:10.394398</td>\n",
       "      <td>add_to_cart</td>\n",
       "      <td>5e57de16-d33c-4126-bf0b-da65449cc3d1</td>\n",
       "      <td>cancelled</td>\n",
       "      <td>2024-03-30 04:12:10.394413</td>\n",
       "      <td>NaN</td>\n",
       "      <td>NaN</td>\n",
       "      <td>NaN</td>\n",
       "      <td>NaN</td>\n",
       "      <td>NaN</td>\n",
       "      <td>NaN</td>\n",
       "    </tr>\n",
       "  </tbody>\n",
       "</table>\n",
       "</div>"
      ],
      "text/plain": [
       "                            customer_id                             device_id  \\\n",
       "0  4f4f5adc-1ca2-4b49-bac4-7b12d6d9d5cf  ef424b22-2393-4708-b065-c68152e8b377   \n",
       "1  4f4f5adc-1ca2-4b49-bac4-7b12d6d9d5cf  ef424b22-2393-4708-b065-c68152e8b377   \n",
       "2  4f4f5adc-1ca2-4b49-bac4-7b12d6d9d5cf  ef424b22-2393-4708-b065-c68152e8b377   \n",
       "3  4f4f5adc-1ca2-4b49-bac4-7b12d6d9d5cf  ef424b22-2393-4708-b065-c68152e8b377   \n",
       "4  4f4f5adc-1ca2-4b49-bac4-7b12d6d9d5cf  ef424b22-2393-4708-b065-c68152e8b377   \n",
       "\n",
       "  location currency  event_id  \\\n",
       "0     Oman      USD     14753   \n",
       "1     Oman      USD     14754   \n",
       "2     Oman      USD     14755   \n",
       "3     Oman      USD     14756   \n",
       "4     Oman      USD     14757   \n",
       "\n",
       "                                          event_data  \\\n",
       "0  {'timestamp': '2024-03-21T12:47:11.012084', 'e...   \n",
       "1  {'timestamp': '2024-03-27T11:35:50.208930', 'e...   \n",
       "2  {'timestamp': '2024-03-30T04:03:10.392205', 'e...   \n",
       "3  {'item_id': 12, 'quantity': 5, 'timestamp': '2...   \n",
       "4  {'item_id': 11, 'quantity': 1, 'timestamp': '2...   \n",
       "\n",
       "              event_timestamp   event_type  \\\n",
       "0  2024-03-21 12:47:11.012084        visit   \n",
       "1  2024-03-27 11:35:50.208930        visit   \n",
       "2  2024-03-30 04:03:10.392205        visit   \n",
       "3  2024-03-30 04:03:10.394393  add_to_cart   \n",
       "4  2024-03-30 04:03:10.394398  add_to_cart   \n",
       "\n",
       "                               order_id     status  \\\n",
       "0  5e57de16-d33c-4126-bf0b-da65449cc3d1  cancelled   \n",
       "1  5e57de16-d33c-4126-bf0b-da65449cc3d1  cancelled   \n",
       "2  5e57de16-d33c-4126-bf0b-da65449cc3d1  cancelled   \n",
       "3  5e57de16-d33c-4126-bf0b-da65449cc3d1  cancelled   \n",
       "4  5e57de16-d33c-4126-bf0b-da65449cc3d1  cancelled   \n",
       "\n",
       "               checked_out_at  line_item_id  item_id  quantity  id name  price  \n",
       "0  2024-03-30 04:12:10.394413           NaN      NaN       NaN NaN  NaN    NaN  \n",
       "1  2024-03-30 04:12:10.394413           NaN      NaN       NaN NaN  NaN    NaN  \n",
       "2  2024-03-30 04:12:10.394413           NaN      NaN       NaN NaN  NaN    NaN  \n",
       "3  2024-03-30 04:12:10.394413           NaN      NaN       NaN NaN  NaN    NaN  \n",
       "4  2024-03-30 04:12:10.394413           NaN      NaN       NaN NaN  NaN    NaN  "
      ]
     },
     "execution_count": 7,
     "metadata": {},
     "output_type": "execute_result"
    }
   ],
   "source": [
    "# Reading the CSV\n",
    "customer_data = pd.read_csv('customer_data.csv')\n",
    "customer_data.head()"
   ]
  },
  {
   "cell_type": "markdown",
   "id": "28562eb0",
   "metadata": {},
   "source": [
    "# 2. Descriptive Analysis"
   ]
  },
  {
   "cell_type": "markdown",
   "id": "6fdc0fcd",
   "metadata": {},
   "source": [
    "<table>\n",
    "<thead><tr>\n",
    "<th><strong>Feature Name</strong></th>\n",
    "<th><strong>Description</strong></th>\n",
    "<th><strong>Data Type</strong></th>\n",
    "</tr>\n",
    "</thead>\n",
    "<tbody>\n",
    "<tr>\n",
    "<td>customerID</td>\n",
    "<td>Contains the id of a customer in the dataset. </td>\n",
    "<td>categorical</td>\n",
    "</tr>\n",
    "<tr>\n",
    "<td>device_id</td>\n",
    "<td>Contains the unique id of devices used by different customer. </td>\n",
    "<td>categorical</td>\n",
    "</tr>\n",
    "<tr>\n",
    "<td>location</td>\n",
    "<td>Contains the specific location of a particular customer.</td>\n",
    "<td>object</td>\n",
    "</tr>\n",
    "<tr>\n",
    "<td>currency</td>\n",
    "<td>The currency used by a customer (USD, GBP, NGN).</td>\n",
    "<td>categorical</td>\n",
    "</tr>\n",
    "<tr>\n",
    "<td>event_id</td>\n",
    "<td>Unique identifier for every event on the website. </td>\n",
    "<td>object</td>\n",
    "</tr>\n",
    "<tr>\n",
    "<td>event_data</td>\n",
    "<td>Contains a dictionary of events carried out by the user (timestamp, event_type). </td>\n",
    "<td>object</td>\n",
    "</tr>\n",
    "<tr>\n",
    "<td>event_timestamp</td>\n",
    "<td>Contains the date and time for the start of a specific event. </td>\n",
    "<td>DateTime</td>\n",
    "</tr>\n",
    "<tr>\n",
    "<td>order_id</td>\n",
    "<td>Unique identifier for a specific order.</td>\n",
    "<td>object</td>\n",
    "</tr>\n",
    "<tr>\n",
    "<td>status</td>\n",
    "<td>Contains the status of the order (failed,success,cancelled).</td>\n",
    "<td>categorical</td>\n",
    "</tr>\n",
    "<tr>\n",
    "<td>checked_out_at</td>\n",
    "<td>Contains the date and time for the end of the event </td>\n",
    "<td>DateTime</td>\n",
    "</tr>\n",
    "<tr>\n",
    "<td>line_item_id</td>\n",
    "<td>Shows the queue index of a successful ordered item</td>\n",
    "<td>numeric, int</td>\n",
    "</tr>\n",
    "<tr>\n",
    "<td>item_id</td>\n",
    "<td>Unique identifier for each item</td>\n",
    "<td>numeric, int</td>\n",
    "</tr>\n",
    "<tr>\n",
    "<td>id</td>\n",
    "<td>contains same identifier as item_id</td>\n",
    "<td>numeric, int</td>\n",
    "</tr>\n",
    "<tr>\n",
    "<td>name</td>\n",
    "<td>Contain Name for each product</td>\n",
    "<td>object</td>\n",
    "</tr>\n",
    "<tr>\n",
    "<td>price</td>\n",
    "<td>Contain prices for each product</td>\n",
    "<td>Float</td>\n",
    "</tr>\n",
    "</tbody>\n",
    "</table>"
   ]
  },
  {
   "cell_type": "markdown",
   "id": "59a638c8",
   "metadata": {},
   "source": [
    "# 3. Explore the dataset"
   ]
  },
  {
   "cell_type": "code",
   "execution_count": 8,
   "id": "f5420d4c",
   "metadata": {
    "ExecuteTime": {
     "end_time": "2024-04-19T22:58:26.748247Z",
     "start_time": "2024-04-19T22:58:26.736609Z"
    }
   },
   "outputs": [
    {
     "data": {
      "text/markdown": [
       "Customer Dataset Dimension: **652958** rows,  **17** columns"
      ],
      "text/plain": [
       "<IPython.core.display.Markdown object>"
      ]
     },
     "metadata": {},
     "output_type": "display_data"
    }
   ],
   "source": [
    "#checking the dimension of the dataframe\n",
    "printmd(f\"Customer Dataset Dimension: **{customer_data.shape[0]}** rows,  **{customer_data.shape[1]}** columns\")"
   ]
  },
  {
   "cell_type": "code",
   "execution_count": 9,
   "id": "5ebbfa30",
   "metadata": {
    "ExecuteTime": {
     "end_time": "2024-04-19T22:58:26.876590Z",
     "start_time": "2024-04-19T22:58:26.748247Z"
    }
   },
   "outputs": [
    {
     "data": {
      "text/markdown": [
       "The columns contained in the Customer Data table are:\n",
       " **Index(['customer_id', 'device_id', 'location', 'currency', 'event_id',\n",
       "       'event_data', 'event_timestamp', 'event_type', 'order_id', 'status',\n",
       "       'checked_out_at', 'line_item_id', 'item_id', 'quantity', 'id', 'name',\n",
       "       'price'],\n",
       "      dtype='object')**"
      ],
      "text/plain": [
       "<IPython.core.display.Markdown object>"
      ]
     },
     "metadata": {},
     "output_type": "display_data"
    }
   ],
   "source": [
    "# checking the columns in the dataframe\n",
    "printmd(f\"The columns contained in the Customer Data table are:\\n **{customer_data.columns}**\")"
   ]
  },
  {
   "cell_type": "code",
   "execution_count": 10,
   "id": "1483940b",
   "metadata": {
    "ExecuteTime": {
     "end_time": "2024-04-19T22:58:27.005446Z",
     "start_time": "2024-04-19T22:58:26.876590Z"
    }
   },
   "outputs": [
    {
     "data": {
      "text/html": [
       "<div>\n",
       "<style scoped>\n",
       "    .dataframe tbody tr th:only-of-type {\n",
       "        vertical-align: middle;\n",
       "    }\n",
       "\n",
       "    .dataframe tbody tr th {\n",
       "        vertical-align: top;\n",
       "    }\n",
       "\n",
       "    .dataframe thead th {\n",
       "        text-align: right;\n",
       "    }\n",
       "</style>\n",
       "<table border=\"1\" class=\"dataframe\">\n",
       "  <thead>\n",
       "    <tr style=\"text-align: right;\">\n",
       "      <th></th>\n",
       "      <th>customer_id</th>\n",
       "      <th>device_id</th>\n",
       "      <th>location</th>\n",
       "      <th>currency</th>\n",
       "      <th>event_id</th>\n",
       "      <th>event_data</th>\n",
       "      <th>event_timestamp</th>\n",
       "      <th>event_type</th>\n",
       "      <th>order_id</th>\n",
       "      <th>status</th>\n",
       "      <th>checked_out_at</th>\n",
       "      <th>line_item_id</th>\n",
       "      <th>item_id</th>\n",
       "      <th>quantity</th>\n",
       "      <th>id</th>\n",
       "      <th>name</th>\n",
       "      <th>price</th>\n",
       "    </tr>\n",
       "  </thead>\n",
       "  <tbody>\n",
       "    <tr>\n",
       "      <th>0</th>\n",
       "      <td>4f4f5adc-1ca2-4b49-bac4-7b12d6d9d5cf</td>\n",
       "      <td>ef424b22-2393-4708-b065-c68152e8b377</td>\n",
       "      <td>Oman</td>\n",
       "      <td>USD</td>\n",
       "      <td>14753</td>\n",
       "      <td>{'timestamp': '2024-03-21T12:47:11.012084', 'e...</td>\n",
       "      <td>2024-03-21 12:47:11.012084</td>\n",
       "      <td>visit</td>\n",
       "      <td>5e57de16-d33c-4126-bf0b-da65449cc3d1</td>\n",
       "      <td>cancelled</td>\n",
       "      <td>2024-03-30 04:12:10.394413</td>\n",
       "      <td>NaN</td>\n",
       "      <td>NaN</td>\n",
       "      <td>NaN</td>\n",
       "      <td>NaN</td>\n",
       "      <td>NaN</td>\n",
       "      <td>NaN</td>\n",
       "    </tr>\n",
       "    <tr>\n",
       "      <th>1</th>\n",
       "      <td>4f4f5adc-1ca2-4b49-bac4-7b12d6d9d5cf</td>\n",
       "      <td>ef424b22-2393-4708-b065-c68152e8b377</td>\n",
       "      <td>Oman</td>\n",
       "      <td>USD</td>\n",
       "      <td>14754</td>\n",
       "      <td>{'timestamp': '2024-03-27T11:35:50.208930', 'e...</td>\n",
       "      <td>2024-03-27 11:35:50.208930</td>\n",
       "      <td>visit</td>\n",
       "      <td>5e57de16-d33c-4126-bf0b-da65449cc3d1</td>\n",
       "      <td>cancelled</td>\n",
       "      <td>2024-03-30 04:12:10.394413</td>\n",
       "      <td>NaN</td>\n",
       "      <td>NaN</td>\n",
       "      <td>NaN</td>\n",
       "      <td>NaN</td>\n",
       "      <td>NaN</td>\n",
       "      <td>NaN</td>\n",
       "    </tr>\n",
       "    <tr>\n",
       "      <th>2</th>\n",
       "      <td>4f4f5adc-1ca2-4b49-bac4-7b12d6d9d5cf</td>\n",
       "      <td>ef424b22-2393-4708-b065-c68152e8b377</td>\n",
       "      <td>Oman</td>\n",
       "      <td>USD</td>\n",
       "      <td>14755</td>\n",
       "      <td>{'timestamp': '2024-03-30T04:03:10.392205', 'e...</td>\n",
       "      <td>2024-03-30 04:03:10.392205</td>\n",
       "      <td>visit</td>\n",
       "      <td>5e57de16-d33c-4126-bf0b-da65449cc3d1</td>\n",
       "      <td>cancelled</td>\n",
       "      <td>2024-03-30 04:12:10.394413</td>\n",
       "      <td>NaN</td>\n",
       "      <td>NaN</td>\n",
       "      <td>NaN</td>\n",
       "      <td>NaN</td>\n",
       "      <td>NaN</td>\n",
       "      <td>NaN</td>\n",
       "    </tr>\n",
       "    <tr>\n",
       "      <th>3</th>\n",
       "      <td>4f4f5adc-1ca2-4b49-bac4-7b12d6d9d5cf</td>\n",
       "      <td>ef424b22-2393-4708-b065-c68152e8b377</td>\n",
       "      <td>Oman</td>\n",
       "      <td>USD</td>\n",
       "      <td>14756</td>\n",
       "      <td>{'item_id': 12, 'quantity': 5, 'timestamp': '2...</td>\n",
       "      <td>2024-03-30 04:03:10.394393</td>\n",
       "      <td>add_to_cart</td>\n",
       "      <td>5e57de16-d33c-4126-bf0b-da65449cc3d1</td>\n",
       "      <td>cancelled</td>\n",
       "      <td>2024-03-30 04:12:10.394413</td>\n",
       "      <td>NaN</td>\n",
       "      <td>NaN</td>\n",
       "      <td>NaN</td>\n",
       "      <td>NaN</td>\n",
       "      <td>NaN</td>\n",
       "      <td>NaN</td>\n",
       "    </tr>\n",
       "    <tr>\n",
       "      <th>4</th>\n",
       "      <td>4f4f5adc-1ca2-4b49-bac4-7b12d6d9d5cf</td>\n",
       "      <td>ef424b22-2393-4708-b065-c68152e8b377</td>\n",
       "      <td>Oman</td>\n",
       "      <td>USD</td>\n",
       "      <td>14757</td>\n",
       "      <td>{'item_id': 11, 'quantity': 1, 'timestamp': '2...</td>\n",
       "      <td>2024-03-30 04:03:10.394398</td>\n",
       "      <td>add_to_cart</td>\n",
       "      <td>5e57de16-d33c-4126-bf0b-da65449cc3d1</td>\n",
       "      <td>cancelled</td>\n",
       "      <td>2024-03-30 04:12:10.394413</td>\n",
       "      <td>NaN</td>\n",
       "      <td>NaN</td>\n",
       "      <td>NaN</td>\n",
       "      <td>NaN</td>\n",
       "      <td>NaN</td>\n",
       "      <td>NaN</td>\n",
       "    </tr>\n",
       "  </tbody>\n",
       "</table>\n",
       "</div>"
      ],
      "text/plain": [
       "                            customer_id                             device_id  \\\n",
       "0  4f4f5adc-1ca2-4b49-bac4-7b12d6d9d5cf  ef424b22-2393-4708-b065-c68152e8b377   \n",
       "1  4f4f5adc-1ca2-4b49-bac4-7b12d6d9d5cf  ef424b22-2393-4708-b065-c68152e8b377   \n",
       "2  4f4f5adc-1ca2-4b49-bac4-7b12d6d9d5cf  ef424b22-2393-4708-b065-c68152e8b377   \n",
       "3  4f4f5adc-1ca2-4b49-bac4-7b12d6d9d5cf  ef424b22-2393-4708-b065-c68152e8b377   \n",
       "4  4f4f5adc-1ca2-4b49-bac4-7b12d6d9d5cf  ef424b22-2393-4708-b065-c68152e8b377   \n",
       "\n",
       "  location currency  event_id  \\\n",
       "0     Oman      USD     14753   \n",
       "1     Oman      USD     14754   \n",
       "2     Oman      USD     14755   \n",
       "3     Oman      USD     14756   \n",
       "4     Oman      USD     14757   \n",
       "\n",
       "                                          event_data  \\\n",
       "0  {'timestamp': '2024-03-21T12:47:11.012084', 'e...   \n",
       "1  {'timestamp': '2024-03-27T11:35:50.208930', 'e...   \n",
       "2  {'timestamp': '2024-03-30T04:03:10.392205', 'e...   \n",
       "3  {'item_id': 12, 'quantity': 5, 'timestamp': '2...   \n",
       "4  {'item_id': 11, 'quantity': 1, 'timestamp': '2...   \n",
       "\n",
       "              event_timestamp   event_type  \\\n",
       "0  2024-03-21 12:47:11.012084        visit   \n",
       "1  2024-03-27 11:35:50.208930        visit   \n",
       "2  2024-03-30 04:03:10.392205        visit   \n",
       "3  2024-03-30 04:03:10.394393  add_to_cart   \n",
       "4  2024-03-30 04:03:10.394398  add_to_cart   \n",
       "\n",
       "                               order_id     status  \\\n",
       "0  5e57de16-d33c-4126-bf0b-da65449cc3d1  cancelled   \n",
       "1  5e57de16-d33c-4126-bf0b-da65449cc3d1  cancelled   \n",
       "2  5e57de16-d33c-4126-bf0b-da65449cc3d1  cancelled   \n",
       "3  5e57de16-d33c-4126-bf0b-da65449cc3d1  cancelled   \n",
       "4  5e57de16-d33c-4126-bf0b-da65449cc3d1  cancelled   \n",
       "\n",
       "               checked_out_at  line_item_id  item_id  quantity  id name  price  \n",
       "0  2024-03-30 04:12:10.394413           NaN      NaN       NaN NaN  NaN    NaN  \n",
       "1  2024-03-30 04:12:10.394413           NaN      NaN       NaN NaN  NaN    NaN  \n",
       "2  2024-03-30 04:12:10.394413           NaN      NaN       NaN NaN  NaN    NaN  \n",
       "3  2024-03-30 04:12:10.394413           NaN      NaN       NaN NaN  NaN    NaN  \n",
       "4  2024-03-30 04:12:10.394413           NaN      NaN       NaN NaN  NaN    NaN  "
      ]
     },
     "execution_count": 10,
     "metadata": {},
     "output_type": "execute_result"
    }
   ],
   "source": [
    "# check the first five observations\n",
    "customer_data.head()"
   ]
  },
  {
   "cell_type": "code",
   "execution_count": 11,
   "id": "7bc7cd17",
   "metadata": {
    "ExecuteTime": {
     "end_time": "2024-04-19T22:58:27.098924Z",
     "start_time": "2024-04-19T22:58:27.005446Z"
    },
    "scrolled": true
   },
   "outputs": [
    {
     "data": {
      "text/plain": [
       "Index(['customer_id', 'device_id', 'location', 'currency', 'event_id',\n",
       "       'event_data', 'event_timestamp', 'event_type', 'order_id', 'status',\n",
       "       'checked_out_at', 'line_item_id', 'item_id', 'quantity', 'id', 'name',\n",
       "       'price'],\n",
       "      dtype='object')"
      ]
     },
     "execution_count": 11,
     "metadata": {},
     "output_type": "execute_result"
    }
   ],
   "source": [
    "customer_data.columns"
   ]
  },
  {
   "cell_type": "code",
   "execution_count": 12,
   "id": "24a2905d",
   "metadata": {
    "ExecuteTime": {
     "end_time": "2024-04-19T22:58:27.538512Z",
     "start_time": "2024-04-19T22:58:27.098924Z"
    }
   },
   "outputs": [
    {
     "name": "stdout",
     "output_type": "stream",
     "text": [
      "<class 'pandas.core.frame.DataFrame'>\n",
      "RangeIndex: 652958 entries, 0 to 652957\n",
      "Data columns (total 17 columns):\n",
      " #   Column           Non-Null Count   Dtype  \n",
      "---  ------           --------------   -----  \n",
      " 0   customer_id      652958 non-null  object \n",
      " 1   device_id        652958 non-null  object \n",
      " 2   location         652958 non-null  object \n",
      " 3   currency         652958 non-null  object \n",
      " 4   event_id         652958 non-null  int64  \n",
      " 5   event_data       652958 non-null  object \n",
      " 6   event_timestamp  652958 non-null  object \n",
      " 7   event_type       652958 non-null  object \n",
      " 8   order_id         645885 non-null  object \n",
      " 9   status           645885 non-null  object \n",
      " 10  checked_out_at   645885 non-null  object \n",
      " 11  line_item_id     578320 non-null  float64\n",
      " 12  item_id          578320 non-null  float64\n",
      " 13  quantity         578320 non-null  float64\n",
      " 14  id               578320 non-null  float64\n",
      " 15  name             578320 non-null  object \n",
      " 16  price            578320 non-null  float64\n",
      "dtypes: float64(5), int64(1), object(11)\n",
      "memory usage: 84.7+ MB\n"
     ]
    }
   ],
   "source": [
    " # Display column information and data types\n",
    "customer_data.info()"
   ]
  },
  {
   "cell_type": "code",
   "execution_count": 13,
   "id": "f061c3a6",
   "metadata": {
    "ExecuteTime": {
     "end_time": "2024-04-19T22:58:27.912582Z",
     "start_time": "2024-04-19T22:58:27.538512Z"
    }
   },
   "outputs": [
    {
     "data": {
      "text/plain": [
       "customer_id            0\n",
       "device_id              0\n",
       "location               0\n",
       "currency               0\n",
       "event_id               0\n",
       "event_data             0\n",
       "event_timestamp        0\n",
       "event_type             0\n",
       "order_id            7073\n",
       "status              7073\n",
       "checked_out_at      7073\n",
       "line_item_id       74638\n",
       "item_id            74638\n",
       "quantity           74638\n",
       "id                 74638\n",
       "name               74638\n",
       "price              74638\n",
       "dtype: int64"
      ]
     },
     "execution_count": 13,
     "metadata": {},
     "output_type": "execute_result"
    }
   ],
   "source": [
    "# checking missing value count\n",
    "customer_data.isnull().sum()"
   ]
  },
  {
   "cell_type": "markdown",
   "id": "2bb19f83",
   "metadata": {
    "id": "2bb19f83"
   },
   "source": [
    "# 4. Data Preprocessing"
   ]
  },
  {
   "cell_type": "markdown",
   "id": "18cc107e",
   "metadata": {
    "id": "18cc107e"
   },
   "source": [
    "## Data Cleaning"
   ]
  },
  {
   "cell_type": "markdown",
   "id": "5793f507",
   "metadata": {
    "id": "5793f507"
   },
   "source": [
    "Here are some steps that we would carry out in this phase\n",
    "\n",
    "1. Remove redundant or unnecessary columns\n",
    "2. Handle missing values\n",
    "3. Trimming the id columns\n",
    "4. Convert data types to the appropriate formats  "
   ]
  },
  {
   "cell_type": "markdown",
   "id": "3d674611",
   "metadata": {
    "id": "3d674611"
   },
   "source": [
    "### 1. Drop redundant columns and/or columns that are not necessary for our analysis (a redundant column is one that gives infomation that another column already explains: eg ID )"
   ]
  },
  {
   "cell_type": "code",
   "execution_count": 14,
   "id": "5a0a07e8",
   "metadata": {
    "ExecuteTime": {
     "end_time": "2024-04-19T22:58:27.968060Z",
     "start_time": "2024-04-19T22:58:27.912582Z"
    }
   },
   "outputs": [
    {
     "data": {
      "text/markdown": [
       "**Dataframe column before dropping;** </br>"
      ],
      "text/plain": [
       "<IPython.core.display.Markdown object>"
      ]
     },
     "metadata": {},
     "output_type": "display_data"
    },
    {
     "data": {
      "text/plain": [
       "Index(['customer_id', 'device_id', 'location', 'currency', 'event_id',\n",
       "       'event_data', 'event_timestamp', 'event_type', 'order_id', 'status',\n",
       "       'checked_out_at', 'line_item_id', 'item_id', 'quantity', 'id', 'name',\n",
       "       'price'],\n",
       "      dtype='object')"
      ]
     },
     "execution_count": 14,
     "metadata": {},
     "output_type": "execute_result"
    }
   ],
   "source": [
    "printmd(f\"**Dataframe column before dropping;** </br>\")\n",
    "customer_data.columns"
   ]
  },
  {
   "cell_type": "code",
   "execution_count": 15,
   "id": "d82d5f36",
   "metadata": {
    "ExecuteTime": {
     "end_time": "2024-04-19T22:58:28.167792Z",
     "start_time": "2024-04-19T22:58:27.968060Z"
    },
    "scrolled": true
   },
   "outputs": [
    {
     "data": {
      "text/markdown": [
       "Dataframe Shape before droping any column is: **(652958, 17)**"
      ],
      "text/plain": [
       "<IPython.core.display.Markdown object>"
      ]
     },
     "metadata": {},
     "output_type": "display_data"
    }
   ],
   "source": [
    "printmd(f\"Dataframe Shape before droping any column is: **{customer_data.shape}**\")"
   ]
  },
  {
   "cell_type": "markdown",
   "id": "05e36d95",
   "metadata": {
    "ExecuteTime": {
     "end_time": "2024-04-19T21:48:27.963515Z",
     "start_time": "2024-04-19T21:48:27.949747Z"
    }
   },
   "source": [
    "**Function to drop redundant columns**"
   ]
  },
  {
   "cell_type": "code",
   "execution_count": 16,
   "id": "2700621f",
   "metadata": {
    "ExecuteTime": {
     "end_time": "2024-04-19T22:58:28.273984Z",
     "start_time": "2024-04-19T22:58:28.167792Z"
    }
   },
   "outputs": [],
   "source": [
    "# Function to drop specified columns from a DataFrame\n",
    "def drop_columns(df, cols, axis=1, inplace=False):\n",
    "    \"\"\"\n",
    "    Drops specified columns from a DataFrame.\n",
    "\n",
    "    Parameters:\n",
    "        df (DataFrame): The input DataFrame.\n",
    "        cols (list): List of column names to be dropped.\n",
    "        axis (int, default=1): Axis along which the operation will be performed (1 for columns).\n",
    "        inplace (bool, default=False): If True, the operation is done in-place, and the DataFrame is modified.\n",
    "\n",
    "    Returns:\n",
    "        DataFrame: If inplace is False, returns a new DataFrame without the specified columns.\n",
    "    \"\"\"\n",
    "    return df.drop(cols, axis=axis, inplace=inplace)"
   ]
  },
  {
   "cell_type": "code",
   "execution_count": 17,
   "id": "fe25d438",
   "metadata": {
    "ExecuteTime": {
     "end_time": "2024-04-19T22:58:28.460711Z",
     "start_time": "2024-04-19T22:58:28.289620Z"
    }
   },
   "outputs": [
    {
     "data": {
      "text/markdown": [
       "**Dropping `'id'`,`'device_id'`, `'line_item_id'`, `'event_id'`, `'event_data'`,`'id'`,`'item_id'` columns**"
      ],
      "text/plain": [
       "<IPython.core.display.Markdown object>"
      ]
     },
     "metadata": {},
     "output_type": "display_data"
    },
    {
     "data": {
      "text/markdown": [
       "*Successfully dropped **`'id'`,`'device_id'`, `'line_item_id'`, `'event_id'`, `'event_data'`,`'id'`,`'item_id'`** column*!!!"
      ],
      "text/plain": [
       "<IPython.core.display.Markdown object>"
      ]
     },
     "metadata": {},
     "output_type": "display_data"
    },
    {
     "data": {
      "text/markdown": [
       "**Reason for dropping the above columns**:"
      ],
      "text/plain": [
       "<IPython.core.display.Markdown object>"
      ]
     },
     "metadata": {},
     "output_type": "display_data"
    }
   ],
   "source": [
    "# List of column names to be dropped from the DataFrame\n",
    "redundant_columns = ['device_id', 'line_item_id', 'event_id', 'event_data','id','item_id']\n",
    "\n",
    "# Dropping the redundant columns\n",
    "drop_columns(customer_data,redundant_columns,axis=1,inplace=True)\n",
    "\n",
    "printmd(\"**Dropping `'id'`,`'device_id'`, `'line_item_id'`, `'event_id'`, `'event_data'`,`'id'`,`'item_id'` columns**\")\n",
    "printmd(\"*Successfully dropped **`'id'`,`'device_id'`, `'line_item_id'`, `'event_id'`, `'event_data'`,`'id'`,`'item_id'`** column*!!!\")\n",
    "\n",
    "printmd(\"**Reason for dropping the above columns**:\")"
   ]
  },
  {
   "cell_type": "markdown",
   "id": "bfb8e232",
   "metadata": {},
   "source": [
    "- 'device_id': Serial identifier for the record which is redundant due to the presence of a case number for each case.\n",
    "- 'line_item_id': This is where the incident occurred in a format that allows for creation of maps and other geographic operation. It's the combination of both latitude and longitude feature of this dataset thus, not required.\n",
    "- 'event_id': It's simply a subcategory of the primary type(which describes the type of crime committed). this can be omitted.\n",
    "- 'event_data':\n",
    "- 'id':\n",
    "- 'item_id':"
   ]
  },
  {
   "cell_type": "code",
   "execution_count": 18,
   "id": "a4193a97",
   "metadata": {
    "ExecuteTime": {
     "end_time": "2024-04-19T22:58:28.477465Z",
     "start_time": "2024-04-19T22:58:28.460711Z"
    }
   },
   "outputs": [
    {
     "data": {
      "text/markdown": [
       "**Dataframe column after dropping;** </br>"
      ],
      "text/plain": [
       "<IPython.core.display.Markdown object>"
      ]
     },
     "metadata": {},
     "output_type": "display_data"
    },
    {
     "data": {
      "text/plain": [
       "Index(['customer_id', 'location', 'currency', 'event_timestamp', 'event_type',\n",
       "       'order_id', 'status', 'checked_out_at', 'quantity', 'name', 'price'],\n",
       "      dtype='object')"
      ]
     },
     "execution_count": 18,
     "metadata": {},
     "output_type": "execute_result"
    }
   ],
   "source": [
    "printmd(f\"**Dataframe column after dropping;** </br>\")\n",
    "customer_data.columns"
   ]
  },
  {
   "cell_type": "code",
   "execution_count": 19,
   "id": "7b6f31cc",
   "metadata": {
    "ExecuteTime": {
     "end_time": "2024-04-19T22:58:28.679325Z",
     "start_time": "2024-04-19T22:58:28.477465Z"
    },
    "scrolled": true
   },
   "outputs": [
    {
     "data": {
      "text/markdown": [
       "New Dataframe Shape is: **(652958, 11)**"
      ],
      "text/plain": [
       "<IPython.core.display.Markdown object>"
      ]
     },
     "metadata": {},
     "output_type": "display_data"
    }
   ],
   "source": [
    "printmd(f\"New Dataframe Shape is: **{customer_data.shape}**\")"
   ]
  },
  {
   "cell_type": "markdown",
   "id": "05ebe46f",
   "metadata": {
    "id": "05ebe46f"
   },
   "source": [
    "### 2. Handling missing values"
   ]
  },
  {
   "cell_type": "code",
   "execution_count": 20,
   "id": "00593837",
   "metadata": {
    "ExecuteTime": {
     "end_time": "2024-04-19T22:58:29.073359Z",
     "start_time": "2024-04-19T22:58:28.679325Z"
    },
    "colab": {
     "base_uri": "https://localhost:8080/"
    },
    "id": "00593837",
    "outputId": "7b657445-cfc4-4a32-cd7c-3de5ce6f3efb",
    "scrolled": true
   },
   "outputs": [
    {
     "data": {
      "text/plain": [
       "customer_id            0\n",
       "location               0\n",
       "currency               0\n",
       "event_timestamp        0\n",
       "event_type             0\n",
       "order_id            7073\n",
       "status              7073\n",
       "checked_out_at      7073\n",
       "quantity           74638\n",
       "name               74638\n",
       "price              74638\n",
       "dtype: int64"
      ]
     },
     "execution_count": 20,
     "metadata": {},
     "output_type": "execute_result"
    }
   ],
   "source": [
    "# checking missing value count\n",
    "customer_data.isnull().sum()"
   ]
  },
  {
   "cell_type": "code",
   "execution_count": 21,
   "id": "a291bd23",
   "metadata": {
    "ExecuteTime": {
     "end_time": "2024-04-19T22:58:29.310189Z",
     "start_time": "2024-04-19T22:58:29.073359Z"
    },
    "id": "a291bd23"
   },
   "outputs": [],
   "source": [
    "# # Missing Values\n",
    "\n",
    "def missing_values_table(df):\n",
    "        \"\"\"Function to calculate missing values by column\"\"\"\n",
    "        # Total missing values\n",
    "        mis_val = df.isnull().sum()\n",
    "\n",
    "        # Percentage of missing values\n",
    "        mis_val_percent = 100 * df.isnull().sum() / len(df)\n",
    "\n",
    "        # Make a table with the results\n",
    "        mis_val_table = pd.concat([mis_val, mis_val_percent], axis=1)\n",
    "\n",
    "        # Rename the columns\n",
    "        mis_val_table_ren_columns = mis_val_table.rename(\n",
    "        columns = {0 : 'Missing Values', 1 : '% of Total Values'})\n",
    "\n",
    "        # Sort the table by percentage of missing descending\n",
    "        mis_val_table_ren_columns = mis_val_table_ren_columns[\n",
    "            mis_val_table_ren_columns.iloc[:,1] != 0].sort_values(\n",
    "        '% of Total Values', ascending=False).round(1)\n",
    "\n",
    "        # Print some summary information\n",
    "        print (\"Your selected dataframe has \" + str(df.shape[1]) + \" columns.\\n\"\n",
    "            \"There are \" + str(mis_val_table_ren_columns.shape[0]) +\n",
    "              \" columns that have missing values.\")\n",
    "\n",
    "        # Return the dataframe with missing information\n",
    "        return mis_val_table_ren_columns"
   ]
  },
  {
   "cell_type": "code",
   "execution_count": 22,
   "id": "b5f9dc16",
   "metadata": {
    "ExecuteTime": {
     "end_time": "2024-04-19T22:58:30.043622Z",
     "start_time": "2024-04-19T22:58:29.310189Z"
    },
    "colab": {
     "base_uri": "https://localhost:8080/",
     "height": 272
    },
    "id": "b5f9dc16",
    "outputId": "9c6e0693-1e77-4249-e7d0-3f07f66979e4"
   },
   "outputs": [
    {
     "data": {
      "text/markdown": [
       "**Summary of missing values accross various columns**"
      ],
      "text/plain": [
       "<IPython.core.display.Markdown object>"
      ]
     },
     "metadata": {},
     "output_type": "display_data"
    },
    {
     "name": "stdout",
     "output_type": "stream",
     "text": [
      "Your selected dataframe has 11 columns.\n",
      "There are 6 columns that have missing values.\n"
     ]
    },
    {
     "data": {
      "text/html": [
       "<div>\n",
       "<style scoped>\n",
       "    .dataframe tbody tr th:only-of-type {\n",
       "        vertical-align: middle;\n",
       "    }\n",
       "\n",
       "    .dataframe tbody tr th {\n",
       "        vertical-align: top;\n",
       "    }\n",
       "\n",
       "    .dataframe thead th {\n",
       "        text-align: right;\n",
       "    }\n",
       "</style>\n",
       "<table border=\"1\" class=\"dataframe\">\n",
       "  <thead>\n",
       "    <tr style=\"text-align: right;\">\n",
       "      <th></th>\n",
       "      <th>Missing Values</th>\n",
       "      <th>% of Total Values</th>\n",
       "    </tr>\n",
       "  </thead>\n",
       "  <tbody>\n",
       "    <tr>\n",
       "      <th>quantity</th>\n",
       "      <td>74638</td>\n",
       "      <td>11.4</td>\n",
       "    </tr>\n",
       "    <tr>\n",
       "      <th>name</th>\n",
       "      <td>74638</td>\n",
       "      <td>11.4</td>\n",
       "    </tr>\n",
       "    <tr>\n",
       "      <th>price</th>\n",
       "      <td>74638</td>\n",
       "      <td>11.4</td>\n",
       "    </tr>\n",
       "    <tr>\n",
       "      <th>order_id</th>\n",
       "      <td>7073</td>\n",
       "      <td>1.1</td>\n",
       "    </tr>\n",
       "    <tr>\n",
       "      <th>status</th>\n",
       "      <td>7073</td>\n",
       "      <td>1.1</td>\n",
       "    </tr>\n",
       "    <tr>\n",
       "      <th>checked_out_at</th>\n",
       "      <td>7073</td>\n",
       "      <td>1.1</td>\n",
       "    </tr>\n",
       "  </tbody>\n",
       "</table>\n",
       "</div>"
      ],
      "text/plain": [
       "                Missing Values  % of Total Values\n",
       "quantity                 74638               11.4\n",
       "name                     74638               11.4\n",
       "price                    74638               11.4\n",
       "order_id                  7073                1.1\n",
       "status                    7073                1.1\n",
       "checked_out_at            7073                1.1"
      ]
     },
     "metadata": {},
     "output_type": "display_data"
    },
    {
     "data": {
      "text/markdown": [
       "\n",
       "From the above missing values table for the customer dataset, it was discovered that `'quantity'`, `'name'`, `'price'`, `'order_id'`, `'status'`, and `'checked_out_at'` columns have an insignificant percentage of Null Values. \n",
       "These missing values can be as a result of the following:\n",
       "- **One-to-Many Relationships:** From the ERD,there are one-to-many relationships between some tables. For example, one customer can have multiple events, and one order can have multiple line items. When i perform a left join on these relationships, the rows from the \"one\" side will be duplicated for each match on the \"many\" side, potentially introducing null values for columns from the \"many\" side.\n",
       "- **No Matching Records:** If there are records in one table that do not have any matching records in the other table being joined, this will result in null values after the join.\n",
       "- **Existing Null Values:** Some columns in the original tables may already have null values, which will be carried over to the merged DataFrame.\n"
      ],
      "text/plain": [
       "<IPython.core.display.Markdown object>"
      ]
     },
     "metadata": {},
     "output_type": "display_data"
    }
   ],
   "source": [
    "printmd(\"**Summary of missing values accross various columns**\")\n",
    "display(missing_values_table(customer_data))\n",
    "\n",
    "printmd(\"\"\"\n",
    "From the above missing values table for the customer dataset, it was discovered that `'quantity'`, `'name'`, `'price'`, `'order_id'`, `'status'`, and `'checked_out_at'` columns have an insignificant percentage of Null Values. \n",
    "These missing values can be as a result of the following:\n",
    "- **One-to-Many Relationships:** From the ERD,there are one-to-many relationships between some tables. For example, one customer can have multiple events, and one order can have multiple line items. When i perform a left join on these relationships, the rows from the \"one\" side will be duplicated for each match on the \"many\" side, potentially introducing null values for columns from the \"many\" side.\n",
    "- **No Matching Records:** If there are records in one table that do not have any matching records in the other table being joined, this will result in null values after the join.\n",
    "- **Existing Null Values:** Some columns in the original tables may already have null values, which will be carried over to the merged DataFrame.\n",
    "\"\"\")"
   ]
  },
  {
   "cell_type": "markdown",
   "id": "f99525fc-4a53-43f7-a88a-e75475861f8f",
   "metadata": {},
   "source": [
    "**Dropping Rows/Columns with Missing Values:** We can drop them using the `dropna()` method. This approach is suitable since we have enough data for our analysis without the missing values."
   ]
  },
  {
   "cell_type": "code",
   "execution_count": 23,
   "id": "db83d1b1",
   "metadata": {
    "ExecuteTime": {
     "end_time": "2024-04-19T22:58:30.562445Z",
     "start_time": "2024-04-19T22:58:30.071935Z"
    }
   },
   "outputs": [],
   "source": [
    "# dropping all missing value\n",
    "customer_data.dropna(subset=['quantity','name','price','order_id','status','checked_out_at'],inplace=True) # i chose to drop this because the percentage NA is insignificant"
   ]
  },
  {
   "cell_type": "code",
   "execution_count": 24,
   "id": "02be1acc",
   "metadata": {
    "ExecuteTime": {
     "end_time": "2024-04-19T22:58:30.834540Z",
     "start_time": "2024-04-19T22:58:30.562445Z"
    }
   },
   "outputs": [
    {
     "data": {
      "text/markdown": [
       "**All missing values has been dropped!**"
      ],
      "text/plain": [
       "<IPython.core.display.Markdown object>"
      ]
     },
     "metadata": {},
     "output_type": "display_data"
    },
    {
     "data": {
      "text/plain": [
       "customer_id        0\n",
       "location           0\n",
       "currency           0\n",
       "event_timestamp    0\n",
       "event_type         0\n",
       "order_id           0\n",
       "status             0\n",
       "checked_out_at     0\n",
       "quantity           0\n",
       "name               0\n",
       "price              0\n",
       "dtype: int64"
      ]
     },
     "execution_count": 24,
     "metadata": {},
     "output_type": "execute_result"
    }
   ],
   "source": [
    "printmd('**All missing values has been dropped!**')\n",
    "customer_data.isna().sum()"
   ]
  },
  {
   "cell_type": "markdown",
   "id": "5882388d",
   "metadata": {},
   "source": [
    "### 3. Trimming the id columns"
   ]
  },
  {
   "cell_type": "code",
   "execution_count": 25,
   "id": "00c25ca8",
   "metadata": {
    "ExecuteTime": {
     "end_time": "2024-04-19T22:58:34.383719Z",
     "start_time": "2024-04-19T22:58:30.834540Z"
    }
   },
   "outputs": [
    {
     "data": {
      "text/markdown": [
       "**The `Customer_id` and `order_id` column contain system generated identification in form of string which is too much to remember, Thus we trimm this long generated id to a shorter one.**"
      ],
      "text/plain": [
       "<IPython.core.display.Markdown object>"
      ]
     },
     "metadata": {},
     "output_type": "display_data"
    },
    {
     "data": {
      "text/markdown": [
       "`customer_id` has been trimmed"
      ],
      "text/plain": [
       "<IPython.core.display.Markdown object>"
      ]
     },
     "metadata": {},
     "output_type": "display_data"
    },
    {
     "data": {
      "text/markdown": [
       "`order_id` has been trimmed"
      ],
      "text/plain": [
       "<IPython.core.display.Markdown object>"
      ]
     },
     "metadata": {},
     "output_type": "display_data"
    }
   ],
   "source": [
    "printmd('**The `Customer_id` and `order_id` column contain system generated identification in form of string which is too much to remember, Thus we trimm this long generated id to a shorter one.**')\n",
    "customer_data['customer_id'] = customer_data['customer_id'].str.split('-').str[0]\n",
    "printmd('`customer_id` has been trimmed')\n",
    "\n",
    "customer_data['order_id'] = customer_data['order_id'].str.split('-').str[0]\n",
    "printmd('`order_id` has been trimmed')\n"
   ]
  },
  {
   "cell_type": "code",
   "execution_count": 26,
   "id": "29c0f66d",
   "metadata": {
    "ExecuteTime": {
     "end_time": "2024-04-19T22:58:34.503648Z",
     "start_time": "2024-04-19T22:58:34.383719Z"
    }
   },
   "outputs": [
    {
     "data": {
      "text/html": [
       "<div>\n",
       "<style scoped>\n",
       "    .dataframe tbody tr th:only-of-type {\n",
       "        vertical-align: middle;\n",
       "    }\n",
       "\n",
       "    .dataframe tbody tr th {\n",
       "        vertical-align: top;\n",
       "    }\n",
       "\n",
       "    .dataframe thead th {\n",
       "        text-align: right;\n",
       "    }\n",
       "</style>\n",
       "<table border=\"1\" class=\"dataframe\">\n",
       "  <thead>\n",
       "    <tr style=\"text-align: right;\">\n",
       "      <th></th>\n",
       "      <th>customer_id</th>\n",
       "      <th>location</th>\n",
       "      <th>currency</th>\n",
       "      <th>event_timestamp</th>\n",
       "      <th>event_type</th>\n",
       "      <th>order_id</th>\n",
       "      <th>status</th>\n",
       "      <th>checked_out_at</th>\n",
       "      <th>quantity</th>\n",
       "      <th>name</th>\n",
       "      <th>price</th>\n",
       "    </tr>\n",
       "  </thead>\n",
       "  <tbody>\n",
       "    <tr>\n",
       "      <th>33</th>\n",
       "      <td>cda7bec0</td>\n",
       "      <td>Saint Helena</td>\n",
       "      <td>NGN</td>\n",
       "      <td>2024-03-26 22:05:58.863661</td>\n",
       "      <td>visit</td>\n",
       "      <td>9e950ce3</td>\n",
       "      <td>success</td>\n",
       "      <td>2024-03-30 04:19:10.406794</td>\n",
       "      <td>2.0</td>\n",
       "      <td>Microsoft Xbox Series X</td>\n",
       "      <td>499.99</td>\n",
       "    </tr>\n",
       "    <tr>\n",
       "      <th>34</th>\n",
       "      <td>cda7bec0</td>\n",
       "      <td>Saint Helena</td>\n",
       "      <td>NGN</td>\n",
       "      <td>2024-03-26 22:05:58.863661</td>\n",
       "      <td>visit</td>\n",
       "      <td>9e950ce3</td>\n",
       "      <td>success</td>\n",
       "      <td>2024-03-30 04:19:10.406794</td>\n",
       "      <td>4.0</td>\n",
       "      <td>Nike Air Max 270</td>\n",
       "      <td>129.99</td>\n",
       "    </tr>\n",
       "    <tr>\n",
       "      <th>35</th>\n",
       "      <td>cda7bec0</td>\n",
       "      <td>Saint Helena</td>\n",
       "      <td>NGN</td>\n",
       "      <td>2024-03-26 22:05:58.863661</td>\n",
       "      <td>visit</td>\n",
       "      <td>9e950ce3</td>\n",
       "      <td>success</td>\n",
       "      <td>2024-03-30 04:19:10.406794</td>\n",
       "      <td>5.0</td>\n",
       "      <td>Nintendo Switch</td>\n",
       "      <td>299.99</td>\n",
       "    </tr>\n",
       "    <tr>\n",
       "      <th>36</th>\n",
       "      <td>cda7bec0</td>\n",
       "      <td>Saint Helena</td>\n",
       "      <td>NGN</td>\n",
       "      <td>2024-03-26 22:05:58.863661</td>\n",
       "      <td>visit</td>\n",
       "      <td>9e950ce3</td>\n",
       "      <td>success</td>\n",
       "      <td>2024-03-30 04:19:10.406794</td>\n",
       "      <td>1.0</td>\n",
       "      <td>Coca-Cola 12-Pack</td>\n",
       "      <td>5.99</td>\n",
       "    </tr>\n",
       "    <tr>\n",
       "      <th>37</th>\n",
       "      <td>cda7bec0</td>\n",
       "      <td>Saint Helena</td>\n",
       "      <td>NGN</td>\n",
       "      <td>2024-03-26 22:05:58.863661</td>\n",
       "      <td>visit</td>\n",
       "      <td>9e950ce3</td>\n",
       "      <td>success</td>\n",
       "      <td>2024-03-30 04:19:10.406794</td>\n",
       "      <td>2.0</td>\n",
       "      <td>Adidas Ultraboost</td>\n",
       "      <td>180.00</td>\n",
       "    </tr>\n",
       "  </tbody>\n",
       "</table>\n",
       "</div>"
      ],
      "text/plain": [
       "   customer_id      location currency             event_timestamp event_type  \\\n",
       "33    cda7bec0  Saint Helena      NGN  2024-03-26 22:05:58.863661      visit   \n",
       "34    cda7bec0  Saint Helena      NGN  2024-03-26 22:05:58.863661      visit   \n",
       "35    cda7bec0  Saint Helena      NGN  2024-03-26 22:05:58.863661      visit   \n",
       "36    cda7bec0  Saint Helena      NGN  2024-03-26 22:05:58.863661      visit   \n",
       "37    cda7bec0  Saint Helena      NGN  2024-03-26 22:05:58.863661      visit   \n",
       "\n",
       "    order_id   status              checked_out_at  quantity  \\\n",
       "33  9e950ce3  success  2024-03-30 04:19:10.406794       2.0   \n",
       "34  9e950ce3  success  2024-03-30 04:19:10.406794       4.0   \n",
       "35  9e950ce3  success  2024-03-30 04:19:10.406794       5.0   \n",
       "36  9e950ce3  success  2024-03-30 04:19:10.406794       1.0   \n",
       "37  9e950ce3  success  2024-03-30 04:19:10.406794       2.0   \n",
       "\n",
       "                       name   price  \n",
       "33  Microsoft Xbox Series X  499.99  \n",
       "34         Nike Air Max 270  129.99  \n",
       "35          Nintendo Switch  299.99  \n",
       "36        Coca-Cola 12-Pack    5.99  \n",
       "37        Adidas Ultraboost  180.00  "
      ]
     },
     "execution_count": 26,
     "metadata": {},
     "output_type": "execute_result"
    }
   ],
   "source": [
    "customer_data.head()"
   ]
  },
  {
   "cell_type": "markdown",
   "id": "fffb6f52",
   "metadata": {},
   "source": [
    "### 4. Convert inappropriate data types to the correct one"
   ]
  },
  {
   "cell_type": "markdown",
   "id": "7779adad",
   "metadata": {},
   "source": [
    "We should convert the columns to appropriate datatypes for\n",
    "1. Alignment with original dataset types.\n",
    "2. For performance gains (clearly, using a numpy.float64 when a numpy.int64 is required will lower our memory footprint)."
   ]
  },
  {
   "cell_type": "code",
   "execution_count": 27,
   "id": "2146b016",
   "metadata": {
    "ExecuteTime": {
     "end_time": "2024-04-19T22:58:34.906730Z",
     "start_time": "2024-04-19T22:58:34.503648Z"
    }
   },
   "outputs": [
    {
     "name": "stdout",
     "output_type": "stream",
     "text": [
      "<class 'pandas.core.frame.DataFrame'>\n",
      "Index: 578320 entries, 33 to 652957\n",
      "Data columns (total 11 columns):\n",
      " #   Column           Non-Null Count   Dtype  \n",
      "---  ------           --------------   -----  \n",
      " 0   customer_id      578320 non-null  object \n",
      " 1   location         578320 non-null  object \n",
      " 2   currency         578320 non-null  object \n",
      " 3   event_timestamp  578320 non-null  object \n",
      " 4   event_type       578320 non-null  object \n",
      " 5   order_id         578320 non-null  object \n",
      " 6   status           578320 non-null  object \n",
      " 7   checked_out_at   578320 non-null  object \n",
      " 8   quantity         578320 non-null  float64\n",
      " 9   name             578320 non-null  object \n",
      " 10  price            578320 non-null  float64\n",
      "dtypes: float64(2), object(9)\n",
      "memory usage: 52.9+ MB\n"
     ]
    }
   ],
   "source": [
    "customer_data.info()"
   ]
  },
  {
   "cell_type": "markdown",
   "id": "46bc8eac",
   "metadata": {},
   "source": [
    "**Convert columns to appropriate datatypes**"
   ]
  },
  {
   "cell_type": "code",
   "execution_count": 28,
   "id": "de93ba04",
   "metadata": {
    "ExecuteTime": {
     "end_time": "2024-04-19T23:09:50.200756Z",
     "start_time": "2024-04-19T23:09:49.872891Z"
    }
   },
   "outputs": [
    {
     "data": {
      "text/markdown": [
       "**event_timestamp** has been converted to **datetime** datatype"
      ],
      "text/plain": [
       "<IPython.core.display.Markdown object>"
      ]
     },
     "metadata": {},
     "output_type": "display_data"
    },
    {
     "data": {
      "text/markdown": [
       "**checked_out_at** has been converted to **datetime** datatype"
      ],
      "text/plain": [
       "<IPython.core.display.Markdown object>"
      ]
     },
     "metadata": {},
     "output_type": "display_data"
    },
    {
     "data": {
      "text/markdown": [
       "**quantity** has been converted to **int** datatype"
      ],
      "text/plain": [
       "<IPython.core.display.Markdown object>"
      ]
     },
     "metadata": {},
     "output_type": "display_data"
    }
   ],
   "source": [
    "# Including the date format dramatically increases performance. 'ISO8601'\n",
    "customer_data[\"event_timestamp\"] = pd.to_datetime(customer_data[\"event_timestamp\"], format='ISO8601') #format=\"%Y-%m-%d %H:%M:%S.%f\"\n",
    "printmd('**event_timestamp** has been converted to **datetime** datatype')\n",
    "\n",
    "customer_data[\"checked_out_at\"] = pd.to_datetime(customer_data[\"checked_out_at\"], format='ISO8601')\n",
    "printmd('**checked_out_at** has been converted to **datetime** datatype')\n",
    "\n",
    "customer_data['quantity'] = customer_data['quantity'].astype('int64')\n",
    "printmd('**quantity** has been converted to **int** datatype')\n"
   ]
  },
  {
   "cell_type": "code",
   "execution_count": 29,
   "id": "b4f402f3",
   "metadata": {
    "ExecuteTime": {
     "end_time": "2024-04-19T23:09:55.097928Z",
     "start_time": "2024-04-19T23:09:54.762990Z"
    }
   },
   "outputs": [
    {
     "name": "stdout",
     "output_type": "stream",
     "text": [
      "<class 'pandas.core.frame.DataFrame'>\n",
      "Index: 578320 entries, 33 to 652957\n",
      "Data columns (total 11 columns):\n",
      " #   Column           Non-Null Count   Dtype         \n",
      "---  ------           --------------   -----         \n",
      " 0   customer_id      578320 non-null  object        \n",
      " 1   location         578320 non-null  object        \n",
      " 2   currency         578320 non-null  object        \n",
      " 3   event_timestamp  578320 non-null  datetime64[ns]\n",
      " 4   event_type       578320 non-null  object        \n",
      " 5   order_id         578320 non-null  object        \n",
      " 6   status           578320 non-null  object        \n",
      " 7   checked_out_at   578320 non-null  datetime64[ns]\n",
      " 8   quantity         578320 non-null  int64         \n",
      " 9   name             578320 non-null  object        \n",
      " 10  price            578320 non-null  float64       \n",
      "dtypes: datetime64[ns](2), float64(1), int64(1), object(7)\n",
      "memory usage: 52.9+ MB\n"
     ]
    }
   ],
   "source": [
    "customer_data.info()"
   ]
  },
  {
   "cell_type": "code",
   "execution_count": 30,
   "id": "ed85aa8f",
   "metadata": {
    "ExecuteTime": {
     "end_time": "2024-04-19T23:10:14.607501Z",
     "start_time": "2024-04-19T23:10:04.125273Z"
    }
   },
   "outputs": [
    {
     "data": {
      "text/markdown": [
       "**Data Cleaning is done**, saving a copy of the clean data"
      ],
      "text/plain": [
       "<IPython.core.display.Markdown object>"
      ]
     },
     "metadata": {},
     "output_type": "display_data"
    },
    {
     "data": {
      "text/markdown": [
       "A copy has been saved in: C:\\Users\\I\\Documents\\GitHub\\AltSchool-DataScience"
      ],
      "text/plain": [
       "<IPython.core.display.Markdown object>"
      ]
     },
     "metadata": {},
     "output_type": "display_data"
    }
   ],
   "source": [
    "# holding present location\n",
    "location = %pwd\n",
    "\n",
    "# saving a copy of the cleaned data\n",
    "printmd(\"**Data Cleaning is done**, saving a copy of the clean data\")\n",
    "customer_data.to_csv('customer_data_cleaned.csv', index=False)\n",
    "printmd(f\"A copy has been saved in: {location}\")"
   ]
  },
  {
   "cell_type": "code",
   "execution_count": 31,
   "id": "6a5c95ae",
   "metadata": {
    "ExecuteTime": {
     "end_time": "2024-04-19T23:10:14.858735Z",
     "start_time": "2024-04-19T23:10:14.858735Z"
    }
   },
   "outputs": [
    {
     "data": {
      "text/plain": [
       "customer_id        0\n",
       "location           0\n",
       "currency           0\n",
       "event_timestamp    0\n",
       "event_type         0\n",
       "order_id           0\n",
       "status             0\n",
       "checked_out_at     0\n",
       "quantity           0\n",
       "name               0\n",
       "price              0\n",
       "dtype: int64"
      ]
     },
     "execution_count": 31,
     "metadata": {},
     "output_type": "execute_result"
    }
   ],
   "source": [
    "customer_data.isna().sum()"
   ]
  },
  {
   "cell_type": "markdown",
   "id": "8caadc5f",
   "metadata": {},
   "source": [
    "## Feature Engineering"
   ]
  },
  {
   "cell_type": "code",
   "execution_count": 32,
   "id": "6ace849f",
   "metadata": {
    "ExecuteTime": {
     "end_time": "2024-04-19T23:16:50.224631Z",
     "start_time": "2024-04-19T23:16:50.201998Z"
    }
   },
   "outputs": [],
   "source": [
    "# Create new columns for Hour\n",
    "def get_hour(date):\n",
    "    \"\"\"\n",
    "    Extracts the hour from a given date string.\n",
    "\n",
    "    Parameters:\n",
    "        date (str): A date string in the ISO 8601 format.\n",
    "\n",
    "    Returns:\n",
    "        int: The hour component of the input date.\n",
    "    \"\"\"\n",
    "    # Convert the input date string to a Pandas datetime object with the specified format\n",
    "    date_column = pd.to_datetime(date, format='ISO8601')\n",
    "\n",
    "    # Extract the hour component from the datetime column\n",
    "    hour = date_column.dt.hour\n",
    "\n",
    "    return hour\n",
    "\n",
    "# Create new columns for Day\n",
    "def get_day(date):\n",
    "    \"\"\"\n",
    "    Extracts the day name from a given date string.\n",
    "\n",
    "    Parameters:\n",
    "        date (str): A date string in the ISO 8601 format.\n",
    "\n",
    "    Returns:\n",
    "        Series: A Pandas Series containing the day names corresponding to the input date.\n",
    "    \"\"\"\n",
    "    # Convert the input date string to a Pandas datetime object with the specified format\n",
    "    date_column = pd.to_datetime(date, format='ISO8601')\n",
    "    # Extract the day names from the datetime column\n",
    "    day_names = date_column.dt.day_name()\n",
    "\n",
    "    return day_names\n",
    "\n",
    "# Create new columns for Months\n",
    "def get_month(date):\n",
    "    \"\"\"\n",
    "    Extracts the month name from a given date string.\n",
    "\n",
    "    Parameters:\n",
    "        date (str): A date string in the ISO 8601 format.\n",
    "\n",
    "    Returns:\n",
    "        Series: A Pandas Series containing the Month names corresponding to the input date.\n",
    "    \"\"\"\n",
    "    # Convert the input date string to a Pandas datetime object with the specified format\n",
    "    date_column = pd.to_datetime(date, format='ISO8601')\n",
    "    # Extract the month names from the datetime column\n",
    "    month_names = date_column.dt.month_name()\n",
    "    \n",
    "\n",
    "    return month_names\n",
    "\n"
   ]
  },
  {
   "cell_type": "markdown",
   "id": "0bd5e869-29b1-4eaa-b089-25bc4740ce89",
   "metadata": {},
   "source": [
    "**Creating new Column**"
   ]
  },
  {
   "cell_type": "code",
   "execution_count": 33,
   "id": "8a0b7f54",
   "metadata": {
    "ExecuteTime": {
     "end_time": "2024-04-19T23:19:03.498210Z",
     "start_time": "2024-04-19T23:19:02.593375Z"
    }
   },
   "outputs": [
    {
     "data": {
      "text/markdown": [
       "**Created a `Hour` Column**"
      ],
      "text/plain": [
       "<IPython.core.display.Markdown object>"
      ]
     },
     "metadata": {},
     "output_type": "display_data"
    },
    {
     "data": {
      "text/markdown": [
       "**Created a `Day` Column**"
      ],
      "text/plain": [
       "<IPython.core.display.Markdown object>"
      ]
     },
     "metadata": {},
     "output_type": "display_data"
    },
    {
     "data": {
      "text/markdown": [
       "**Created a `Month` Column**"
      ],
      "text/plain": [
       "<IPython.core.display.Markdown object>"
      ]
     },
     "metadata": {},
     "output_type": "display_data"
    }
   ],
   "source": [
    "# Creating a Hour column\n",
    "customer_data['Hour'] = get_hour(customer_data['event_timestamp'])\n",
    "printmd(\"**Created a `Hour` Column**\")\n",
    "\n",
    "# Creating a day column\n",
    "customer_data['Day'] = get_day(customer_data['event_timestamp'])\n",
    "printmd(\"**Created a `Day` Column**\")\n",
    "\n",
    "# Creating a month column\n",
    "customer_data['Month'] = get_month(customer_data['event_timestamp'])\n",
    "printmd(\"**Created a `Month` Column**\")"
   ]
  },
  {
   "cell_type": "code",
   "execution_count": 34,
   "id": "f95902cc",
   "metadata": {
    "ExecuteTime": {
     "end_time": "2024-04-19T23:19:15.295307Z",
     "start_time": "2024-04-19T23:19:15.262263Z"
    }
   },
   "outputs": [
    {
     "data": {
      "text/html": [
       "<div>\n",
       "<style scoped>\n",
       "    .dataframe tbody tr th:only-of-type {\n",
       "        vertical-align: middle;\n",
       "    }\n",
       "\n",
       "    .dataframe tbody tr th {\n",
       "        vertical-align: top;\n",
       "    }\n",
       "\n",
       "    .dataframe thead th {\n",
       "        text-align: right;\n",
       "    }\n",
       "</style>\n",
       "<table border=\"1\" class=\"dataframe\">\n",
       "  <thead>\n",
       "    <tr style=\"text-align: right;\">\n",
       "      <th></th>\n",
       "      <th>customer_id</th>\n",
       "      <th>location</th>\n",
       "      <th>currency</th>\n",
       "      <th>event_timestamp</th>\n",
       "      <th>event_type</th>\n",
       "      <th>order_id</th>\n",
       "      <th>status</th>\n",
       "      <th>checked_out_at</th>\n",
       "      <th>quantity</th>\n",
       "      <th>name</th>\n",
       "      <th>price</th>\n",
       "      <th>Hour</th>\n",
       "      <th>Day</th>\n",
       "      <th>Month</th>\n",
       "    </tr>\n",
       "  </thead>\n",
       "  <tbody>\n",
       "    <tr>\n",
       "      <th>33</th>\n",
       "      <td>cda7bec0</td>\n",
       "      <td>Saint Helena</td>\n",
       "      <td>NGN</td>\n",
       "      <td>2024-03-26 22:05:58.863661</td>\n",
       "      <td>visit</td>\n",
       "      <td>9e950ce3</td>\n",
       "      <td>success</td>\n",
       "      <td>2024-03-30 04:19:10.406794</td>\n",
       "      <td>2</td>\n",
       "      <td>Microsoft Xbox Series X</td>\n",
       "      <td>499.99</td>\n",
       "      <td>22</td>\n",
       "      <td>Tuesday</td>\n",
       "      <td>March</td>\n",
       "    </tr>\n",
       "    <tr>\n",
       "      <th>34</th>\n",
       "      <td>cda7bec0</td>\n",
       "      <td>Saint Helena</td>\n",
       "      <td>NGN</td>\n",
       "      <td>2024-03-26 22:05:58.863661</td>\n",
       "      <td>visit</td>\n",
       "      <td>9e950ce3</td>\n",
       "      <td>success</td>\n",
       "      <td>2024-03-30 04:19:10.406794</td>\n",
       "      <td>4</td>\n",
       "      <td>Nike Air Max 270</td>\n",
       "      <td>129.99</td>\n",
       "      <td>22</td>\n",
       "      <td>Tuesday</td>\n",
       "      <td>March</td>\n",
       "    </tr>\n",
       "    <tr>\n",
       "      <th>35</th>\n",
       "      <td>cda7bec0</td>\n",
       "      <td>Saint Helena</td>\n",
       "      <td>NGN</td>\n",
       "      <td>2024-03-26 22:05:58.863661</td>\n",
       "      <td>visit</td>\n",
       "      <td>9e950ce3</td>\n",
       "      <td>success</td>\n",
       "      <td>2024-03-30 04:19:10.406794</td>\n",
       "      <td>5</td>\n",
       "      <td>Nintendo Switch</td>\n",
       "      <td>299.99</td>\n",
       "      <td>22</td>\n",
       "      <td>Tuesday</td>\n",
       "      <td>March</td>\n",
       "    </tr>\n",
       "    <tr>\n",
       "      <th>36</th>\n",
       "      <td>cda7bec0</td>\n",
       "      <td>Saint Helena</td>\n",
       "      <td>NGN</td>\n",
       "      <td>2024-03-26 22:05:58.863661</td>\n",
       "      <td>visit</td>\n",
       "      <td>9e950ce3</td>\n",
       "      <td>success</td>\n",
       "      <td>2024-03-30 04:19:10.406794</td>\n",
       "      <td>1</td>\n",
       "      <td>Coca-Cola 12-Pack</td>\n",
       "      <td>5.99</td>\n",
       "      <td>22</td>\n",
       "      <td>Tuesday</td>\n",
       "      <td>March</td>\n",
       "    </tr>\n",
       "    <tr>\n",
       "      <th>37</th>\n",
       "      <td>cda7bec0</td>\n",
       "      <td>Saint Helena</td>\n",
       "      <td>NGN</td>\n",
       "      <td>2024-03-26 22:05:58.863661</td>\n",
       "      <td>visit</td>\n",
       "      <td>9e950ce3</td>\n",
       "      <td>success</td>\n",
       "      <td>2024-03-30 04:19:10.406794</td>\n",
       "      <td>2</td>\n",
       "      <td>Adidas Ultraboost</td>\n",
       "      <td>180.00</td>\n",
       "      <td>22</td>\n",
       "      <td>Tuesday</td>\n",
       "      <td>March</td>\n",
       "    </tr>\n",
       "  </tbody>\n",
       "</table>\n",
       "</div>"
      ],
      "text/plain": [
       "   customer_id      location currency            event_timestamp event_type  \\\n",
       "33    cda7bec0  Saint Helena      NGN 2024-03-26 22:05:58.863661      visit   \n",
       "34    cda7bec0  Saint Helena      NGN 2024-03-26 22:05:58.863661      visit   \n",
       "35    cda7bec0  Saint Helena      NGN 2024-03-26 22:05:58.863661      visit   \n",
       "36    cda7bec0  Saint Helena      NGN 2024-03-26 22:05:58.863661      visit   \n",
       "37    cda7bec0  Saint Helena      NGN 2024-03-26 22:05:58.863661      visit   \n",
       "\n",
       "    order_id   status             checked_out_at  quantity  \\\n",
       "33  9e950ce3  success 2024-03-30 04:19:10.406794         2   \n",
       "34  9e950ce3  success 2024-03-30 04:19:10.406794         4   \n",
       "35  9e950ce3  success 2024-03-30 04:19:10.406794         5   \n",
       "36  9e950ce3  success 2024-03-30 04:19:10.406794         1   \n",
       "37  9e950ce3  success 2024-03-30 04:19:10.406794         2   \n",
       "\n",
       "                       name   price  Hour      Day  Month  \n",
       "33  Microsoft Xbox Series X  499.99    22  Tuesday  March  \n",
       "34         Nike Air Max 270  129.99    22  Tuesday  March  \n",
       "35          Nintendo Switch  299.99    22  Tuesday  March  \n",
       "36        Coca-Cola 12-Pack    5.99    22  Tuesday  March  \n",
       "37        Adidas Ultraboost  180.00    22  Tuesday  March  "
      ]
     },
     "execution_count": 34,
     "metadata": {},
     "output_type": "execute_result"
    }
   ],
   "source": [
    "customer_data.head()"
   ]
  },
  {
   "cell_type": "markdown",
   "id": "f9c751c1",
   "metadata": {},
   "source": [
    "## Checking for duplicates"
   ]
  },
  {
   "cell_type": "code",
   "execution_count": 35,
   "id": "134007fa",
   "metadata": {
    "ExecuteTime": {
     "end_time": "2024-04-19T23:23:50.537147Z",
     "start_time": "2024-04-19T23:23:49.485996Z"
    }
   },
   "outputs": [
    {
     "name": "stdout",
     "output_type": "stream",
     "text": [
      "Known observations: 578320\n",
      "Unique observations: 573662\n"
     ]
    },
    {
     "data": {
      "text/markdown": [
       "**4658 duplicates Found!**"
      ],
      "text/plain": [
       "<IPython.core.display.Markdown object>"
      ]
     },
     "metadata": {},
     "output_type": "display_data"
    }
   ],
   "source": [
    "# checking duplicated entries\n",
    "known_obs = len(customer_data.index)\n",
    "unique_obs = len(customer_data.drop_duplicates().index)\n",
    "\n",
    "print(f'Known observations: {known_obs}\\nUnique observations: {unique_obs}')\n",
    "\n",
    "printmd(f\"**{(known_obs - unique_obs)} duplicates Found!**\")"
   ]
  },
  {
   "cell_type": "code",
   "execution_count": 36,
   "id": "6d4cb770",
   "metadata": {
    "ExecuteTime": {
     "end_time": "2024-04-19T23:24:09.519870Z",
     "start_time": "2024-04-19T23:24:09.148406Z"
    }
   },
   "outputs": [
    {
     "name": "stdout",
     "output_type": "stream",
     "text": [
      "<class 'pandas.core.frame.DataFrame'>\n",
      "Index: 578320 entries, 33 to 652957\n",
      "Data columns (total 14 columns):\n",
      " #   Column           Non-Null Count   Dtype         \n",
      "---  ------           --------------   -----         \n",
      " 0   customer_id      578320 non-null  object        \n",
      " 1   location         578320 non-null  object        \n",
      " 2   currency         578320 non-null  object        \n",
      " 3   event_timestamp  578320 non-null  datetime64[ns]\n",
      " 4   event_type       578320 non-null  object        \n",
      " 5   order_id         578320 non-null  object        \n",
      " 6   status           578320 non-null  object        \n",
      " 7   checked_out_at   578320 non-null  datetime64[ns]\n",
      " 8   quantity         578320 non-null  int64         \n",
      " 9   name             578320 non-null  object        \n",
      " 10  price            578320 non-null  float64       \n",
      " 11  Hour             578320 non-null  int32         \n",
      " 12  Day              578320 non-null  object        \n",
      " 13  Month            578320 non-null  object        \n",
      "dtypes: datetime64[ns](2), float64(1), int32(1), int64(1), object(9)\n",
      "memory usage: 64.0+ MB\n"
     ]
    }
   ],
   "source": [
    "customer_data.info()"
   ]
  },
  {
   "cell_type": "markdown",
   "id": "59d8f6d7",
   "metadata": {
    "id": "sq29_psFT90e",
    "papermill": {
     "duration": 0.110182,
     "end_time": "2022-09-17T00:13:04.215152",
     "exception": false,
     "start_time": "2022-09-17T00:13:04.104970",
     "status": "completed"
    },
    "tags": []
   },
   "source": [
    "## Summary of Categorical Features"
   ]
  },
  {
   "cell_type": "code",
   "execution_count": 37,
   "id": "afc75c87",
   "metadata": {
    "ExecuteTime": {
     "end_time": "2024-04-19T23:24:11.529632Z",
     "start_time": "2024-04-19T23:24:10.342242Z"
    },
    "id": "NIQVs9dTyktt",
    "outputId": "6a854b72-8ced-4a94-f516-b5e845f9d953",
    "papermill": {
     "duration": 0.166675,
     "end_time": "2022-09-17T00:13:04.491328",
     "exception": false,
     "start_time": "2022-09-17T00:13:04.324653",
     "status": "completed"
    },
    "scrolled": true,
    "tags": []
   },
   "outputs": [
    {
     "data": {
      "text/html": [
       "<div>\n",
       "<style scoped>\n",
       "    .dataframe tbody tr th:only-of-type {\n",
       "        vertical-align: middle;\n",
       "    }\n",
       "\n",
       "    .dataframe tbody tr th {\n",
       "        vertical-align: top;\n",
       "    }\n",
       "\n",
       "    .dataframe thead th {\n",
       "        text-align: right;\n",
       "    }\n",
       "</style>\n",
       "<table border=\"1\" class=\"dataframe\">\n",
       "  <thead>\n",
       "    <tr style=\"text-align: right;\">\n",
       "      <th></th>\n",
       "      <th>count</th>\n",
       "      <th>unique</th>\n",
       "      <th>top</th>\n",
       "      <th>freq</th>\n",
       "    </tr>\n",
       "  </thead>\n",
       "  <tbody>\n",
       "    <tr>\n",
       "      <th>customer_id</th>\n",
       "      <td>578320</td>\n",
       "      <td>4594</td>\n",
       "      <td>eb7dcb88</td>\n",
       "      <td>372</td>\n",
       "    </tr>\n",
       "    <tr>\n",
       "      <th>location</th>\n",
       "      <td>578320</td>\n",
       "      <td>243</td>\n",
       "      <td>Korea</td>\n",
       "      <td>6997</td>\n",
       "    </tr>\n",
       "    <tr>\n",
       "      <th>currency</th>\n",
       "      <td>578320</td>\n",
       "      <td>3</td>\n",
       "      <td>USD</td>\n",
       "      <td>198037</td>\n",
       "    </tr>\n",
       "    <tr>\n",
       "      <th>event_type</th>\n",
       "      <td>578320</td>\n",
       "      <td>4</td>\n",
       "      <td>add_to_cart</td>\n",
       "      <td>269335</td>\n",
       "    </tr>\n",
       "    <tr>\n",
       "      <th>order_id</th>\n",
       "      <td>578320</td>\n",
       "      <td>4594</td>\n",
       "      <td>5cc9c814</td>\n",
       "      <td>372</td>\n",
       "    </tr>\n",
       "    <tr>\n",
       "      <th>status</th>\n",
       "      <td>578320</td>\n",
       "      <td>3</td>\n",
       "      <td>failed</td>\n",
       "      <td>196383</td>\n",
       "    </tr>\n",
       "    <tr>\n",
       "      <th>name</th>\n",
       "      <td>578320</td>\n",
       "      <td>15</td>\n",
       "      <td>Canon EOS R5 Camera</td>\n",
       "      <td>39715</td>\n",
       "    </tr>\n",
       "    <tr>\n",
       "      <th>Day</th>\n",
       "      <td>578320</td>\n",
       "      <td>7</td>\n",
       "      <td>Saturday</td>\n",
       "      <td>534760</td>\n",
       "    </tr>\n",
       "    <tr>\n",
       "      <th>Month</th>\n",
       "      <td>578320</td>\n",
       "      <td>1</td>\n",
       "      <td>March</td>\n",
       "      <td>578320</td>\n",
       "    </tr>\n",
       "  </tbody>\n",
       "</table>\n",
       "</div>"
      ],
      "text/plain": [
       "              count unique                  top    freq\n",
       "customer_id  578320   4594             eb7dcb88     372\n",
       "location     578320    243                Korea    6997\n",
       "currency     578320      3                  USD  198037\n",
       "event_type   578320      4          add_to_cart  269335\n",
       "order_id     578320   4594             5cc9c814     372\n",
       "status       578320      3               failed  196383\n",
       "name         578320     15  Canon EOS R5 Camera   39715\n",
       "Day          578320      7             Saturday  534760\n",
       "Month        578320      1                March  578320"
      ]
     },
     "execution_count": 37,
     "metadata": {},
     "output_type": "execute_result"
    }
   ],
   "source": [
    "customer_data.describe(include=['object']).T"
   ]
  },
  {
   "cell_type": "code",
   "execution_count": null,
   "id": "bc91fff0",
   "metadata": {},
   "outputs": [],
   "source": []
  },
  {
   "cell_type": "markdown",
   "id": "002390a7",
   "metadata": {},
   "source": [
    "## Unique values"
   ]
  },
  {
   "cell_type": "code",
   "execution_count": 38,
   "id": "0eb278bd",
   "metadata": {
    "ExecuteTime": {
     "end_time": "2024-04-19T23:24:34.287897Z",
     "start_time": "2024-04-19T23:24:33.919160Z"
    },
    "scrolled": true
   },
   "outputs": [
    {
     "name": "stdout",
     "output_type": "stream",
     "text": [
      "<class 'pandas.core.frame.DataFrame'>\n",
      "Index: 578320 entries, 33 to 652957\n",
      "Data columns (total 14 columns):\n",
      " #   Column           Non-Null Count   Dtype         \n",
      "---  ------           --------------   -----         \n",
      " 0   customer_id      578320 non-null  object        \n",
      " 1   location         578320 non-null  object        \n",
      " 2   currency         578320 non-null  object        \n",
      " 3   event_timestamp  578320 non-null  datetime64[ns]\n",
      " 4   event_type       578320 non-null  object        \n",
      " 5   order_id         578320 non-null  object        \n",
      " 6   status           578320 non-null  object        \n",
      " 7   checked_out_at   578320 non-null  datetime64[ns]\n",
      " 8   quantity         578320 non-null  int64         \n",
      " 9   name             578320 non-null  object        \n",
      " 10  price            578320 non-null  float64       \n",
      " 11  Hour             578320 non-null  int32         \n",
      " 12  Day              578320 non-null  object        \n",
      " 13  Month            578320 non-null  object        \n",
      "dtypes: datetime64[ns](2), float64(1), int32(1), int64(1), object(9)\n",
      "memory usage: 64.0+ MB\n"
     ]
    }
   ],
   "source": [
    "customer_data.info()"
   ]
  },
  {
   "cell_type": "code",
   "execution_count": 39,
   "id": "c45cd648",
   "metadata": {
    "ExecuteTime": {
     "end_time": "2024-04-19T23:24:42.149694Z",
     "start_time": "2024-04-19T23:24:35.195432Z"
    }
   },
   "outputs": [
    {
     "data": {
      "text/markdown": [
       "**Unique Values By Features**"
      ],
      "text/plain": [
       "<IPython.core.display.Markdown object>"
      ]
     },
     "metadata": {},
     "output_type": "display_data"
    },
    {
     "name": "stdout",
     "output_type": "stream",
     "text": [
      "customer_id           4594\n",
      "location              243\n",
      "currency              3\n",
      "event_timestamp       70287\n",
      "event_type            4\n",
      "order_id              4594\n",
      "status                3\n",
      "checked_out_at        4594\n",
      "quantity              5\n",
      "name                  15\n",
      "price                 14\n",
      "Hour                  24\n",
      "Day                   7\n",
      "Month                 1\n"
     ]
    }
   ],
   "source": [
    "# padding value\n",
    "left_padding = 21\n",
    "printmd(\"**Unique Values By Features**\")\n",
    "for feature in customer_data.columns:\n",
    "    uniq = np.unique(customer_data[feature])\n",
    "    print(feature.ljust(left_padding),len(uniq))"
   ]
  },
  {
   "cell_type": "code",
   "execution_count": 40,
   "id": "f6bd4551",
   "metadata": {
    "ExecuteTime": {
     "end_time": "2024-04-19T23:25:02.507428Z",
     "start_time": "2024-04-19T23:25:02.476628Z"
    }
   },
   "outputs": [
    {
     "data": {
      "text/html": [
       "<div>\n",
       "<style scoped>\n",
       "    .dataframe tbody tr th:only-of-type {\n",
       "        vertical-align: middle;\n",
       "    }\n",
       "\n",
       "    .dataframe tbody tr th {\n",
       "        vertical-align: top;\n",
       "    }\n",
       "\n",
       "    .dataframe thead th {\n",
       "        text-align: right;\n",
       "    }\n",
       "</style>\n",
       "<table border=\"1\" class=\"dataframe\">\n",
       "  <thead>\n",
       "    <tr style=\"text-align: right;\">\n",
       "      <th></th>\n",
       "      <th>customer_id</th>\n",
       "      <th>location</th>\n",
       "      <th>currency</th>\n",
       "      <th>event_timestamp</th>\n",
       "      <th>event_type</th>\n",
       "      <th>order_id</th>\n",
       "      <th>status</th>\n",
       "      <th>checked_out_at</th>\n",
       "      <th>quantity</th>\n",
       "      <th>name</th>\n",
       "      <th>price</th>\n",
       "      <th>Hour</th>\n",
       "      <th>Day</th>\n",
       "      <th>Month</th>\n",
       "    </tr>\n",
       "  </thead>\n",
       "  <tbody>\n",
       "    <tr>\n",
       "      <th>33</th>\n",
       "      <td>cda7bec0</td>\n",
       "      <td>Saint Helena</td>\n",
       "      <td>NGN</td>\n",
       "      <td>2024-03-26 22:05:58.863661</td>\n",
       "      <td>visit</td>\n",
       "      <td>9e950ce3</td>\n",
       "      <td>success</td>\n",
       "      <td>2024-03-30 04:19:10.406794</td>\n",
       "      <td>2</td>\n",
       "      <td>Microsoft Xbox Series X</td>\n",
       "      <td>499.99</td>\n",
       "      <td>22</td>\n",
       "      <td>Tuesday</td>\n",
       "      <td>March</td>\n",
       "    </tr>\n",
       "    <tr>\n",
       "      <th>34</th>\n",
       "      <td>cda7bec0</td>\n",
       "      <td>Saint Helena</td>\n",
       "      <td>NGN</td>\n",
       "      <td>2024-03-26 22:05:58.863661</td>\n",
       "      <td>visit</td>\n",
       "      <td>9e950ce3</td>\n",
       "      <td>success</td>\n",
       "      <td>2024-03-30 04:19:10.406794</td>\n",
       "      <td>4</td>\n",
       "      <td>Nike Air Max 270</td>\n",
       "      <td>129.99</td>\n",
       "      <td>22</td>\n",
       "      <td>Tuesday</td>\n",
       "      <td>March</td>\n",
       "    </tr>\n",
       "    <tr>\n",
       "      <th>35</th>\n",
       "      <td>cda7bec0</td>\n",
       "      <td>Saint Helena</td>\n",
       "      <td>NGN</td>\n",
       "      <td>2024-03-26 22:05:58.863661</td>\n",
       "      <td>visit</td>\n",
       "      <td>9e950ce3</td>\n",
       "      <td>success</td>\n",
       "      <td>2024-03-30 04:19:10.406794</td>\n",
       "      <td>5</td>\n",
       "      <td>Nintendo Switch</td>\n",
       "      <td>299.99</td>\n",
       "      <td>22</td>\n",
       "      <td>Tuesday</td>\n",
       "      <td>March</td>\n",
       "    </tr>\n",
       "    <tr>\n",
       "      <th>36</th>\n",
       "      <td>cda7bec0</td>\n",
       "      <td>Saint Helena</td>\n",
       "      <td>NGN</td>\n",
       "      <td>2024-03-26 22:05:58.863661</td>\n",
       "      <td>visit</td>\n",
       "      <td>9e950ce3</td>\n",
       "      <td>success</td>\n",
       "      <td>2024-03-30 04:19:10.406794</td>\n",
       "      <td>1</td>\n",
       "      <td>Coca-Cola 12-Pack</td>\n",
       "      <td>5.99</td>\n",
       "      <td>22</td>\n",
       "      <td>Tuesday</td>\n",
       "      <td>March</td>\n",
       "    </tr>\n",
       "    <tr>\n",
       "      <th>37</th>\n",
       "      <td>cda7bec0</td>\n",
       "      <td>Saint Helena</td>\n",
       "      <td>NGN</td>\n",
       "      <td>2024-03-26 22:05:58.863661</td>\n",
       "      <td>visit</td>\n",
       "      <td>9e950ce3</td>\n",
       "      <td>success</td>\n",
       "      <td>2024-03-30 04:19:10.406794</td>\n",
       "      <td>2</td>\n",
       "      <td>Adidas Ultraboost</td>\n",
       "      <td>180.00</td>\n",
       "      <td>22</td>\n",
       "      <td>Tuesday</td>\n",
       "      <td>March</td>\n",
       "    </tr>\n",
       "  </tbody>\n",
       "</table>\n",
       "</div>"
      ],
      "text/plain": [
       "   customer_id      location currency            event_timestamp event_type  \\\n",
       "33    cda7bec0  Saint Helena      NGN 2024-03-26 22:05:58.863661      visit   \n",
       "34    cda7bec0  Saint Helena      NGN 2024-03-26 22:05:58.863661      visit   \n",
       "35    cda7bec0  Saint Helena      NGN 2024-03-26 22:05:58.863661      visit   \n",
       "36    cda7bec0  Saint Helena      NGN 2024-03-26 22:05:58.863661      visit   \n",
       "37    cda7bec0  Saint Helena      NGN 2024-03-26 22:05:58.863661      visit   \n",
       "\n",
       "    order_id   status             checked_out_at  quantity  \\\n",
       "33  9e950ce3  success 2024-03-30 04:19:10.406794         2   \n",
       "34  9e950ce3  success 2024-03-30 04:19:10.406794         4   \n",
       "35  9e950ce3  success 2024-03-30 04:19:10.406794         5   \n",
       "36  9e950ce3  success 2024-03-30 04:19:10.406794         1   \n",
       "37  9e950ce3  success 2024-03-30 04:19:10.406794         2   \n",
       "\n",
       "                       name   price  Hour      Day  Month  \n",
       "33  Microsoft Xbox Series X  499.99    22  Tuesday  March  \n",
       "34         Nike Air Max 270  129.99    22  Tuesday  March  \n",
       "35          Nintendo Switch  299.99    22  Tuesday  March  \n",
       "36        Coca-Cola 12-Pack    5.99    22  Tuesday  March  \n",
       "37        Adidas Ultraboost  180.00    22  Tuesday  March  "
      ]
     },
     "execution_count": 40,
     "metadata": {},
     "output_type": "execute_result"
    }
   ],
   "source": [
    "customer_data.head()"
   ]
  },
  {
   "cell_type": "markdown",
   "id": "1db7e38f-b81d-4e0a-aec4-d1ee249674d4",
   "metadata": {},
   "source": [
    "# 5. Answering Questions"
   ]
  },
  {
   "cell_type": "markdown",
   "id": "7f43bc6b-5fa2-434f-951e-96281569fe8c",
   "metadata": {},
   "source": [
    "## a. Visit Frequency:\n",
    "- How often does this customer visit the website, based on the provided data?\n",
    "- Can you identify any patterns or trends in the customer's visit frequency?"
   ]
  },
  {
   "cell_type": "code",
   "execution_count": 41,
   "id": "fed0789c-c7aa-4d1c-aceb-baf1be477920",
   "metadata": {
    "scrolled": true
   },
   "outputs": [
    {
     "data": {
      "text/markdown": [
       "**Visit Counts (Sorted by Visit Count):**"
      ],
      "text/plain": [
       "<IPython.core.display.Markdown object>"
      ]
     },
     "metadata": {},
     "output_type": "display_data"
    },
    {
     "data": {
      "text/html": [
       "<div>\n",
       "<style scoped>\n",
       "    .dataframe tbody tr th:only-of-type {\n",
       "        vertical-align: middle;\n",
       "    }\n",
       "\n",
       "    .dataframe tbody tr th {\n",
       "        vertical-align: top;\n",
       "    }\n",
       "\n",
       "    .dataframe thead th {\n",
       "        text-align: right;\n",
       "    }\n",
       "</style>\n",
       "<table border=\"1\" class=\"dataframe\">\n",
       "  <thead>\n",
       "    <tr style=\"text-align: right;\">\n",
       "      <th></th>\n",
       "      <th>customer_id</th>\n",
       "      <th>visit_count</th>\n",
       "    </tr>\n",
       "  </thead>\n",
       "  <tbody>\n",
       "    <tr>\n",
       "      <th>4218</th>\n",
       "      <td>eb7dcb88</td>\n",
       "      <td>31</td>\n",
       "    </tr>\n",
       "    <tr>\n",
       "      <th>4078</th>\n",
       "      <td>e4431b51</td>\n",
       "      <td>30</td>\n",
       "    </tr>\n",
       "    <tr>\n",
       "      <th>999</th>\n",
       "      <td>35bcd050</td>\n",
       "      <td>30</td>\n",
       "    </tr>\n",
       "    <tr>\n",
       "      <th>3422</th>\n",
       "      <td>be8ce4e3</td>\n",
       "      <td>30</td>\n",
       "    </tr>\n",
       "    <tr>\n",
       "      <th>1202</th>\n",
       "      <td>40d3e38b</td>\n",
       "      <td>30</td>\n",
       "    </tr>\n",
       "  </tbody>\n",
       "</table>\n",
       "</div>"
      ],
      "text/plain": [
       "     customer_id  visit_count\n",
       "4218    eb7dcb88           31\n",
       "4078    e4431b51           30\n",
       "999     35bcd050           30\n",
       "3422    be8ce4e3           30\n",
       "1202    40d3e38b           30"
      ]
     },
     "execution_count": 41,
     "metadata": {},
     "output_type": "execute_result"
    }
   ],
   "source": [
    "# Group by 'customer_id' and count the number of unique 'event_timestamp' values\n",
    "visit_counts = customer_data.groupby('customer_id')['event_timestamp'].nunique().reset_index()\n",
    "visit_counts.columns = ['customer_id', 'visit_count']\n",
    "\n",
    "# Sort the visit counts by 'visit_count' in descending order\n",
    "visit_counts_sorted = visit_counts.sort_values(by='visit_count', ascending=False)\n",
    "\n",
    "# Print the sorted visit counts\n",
    "printmd(\"**Visit Counts (Sorted by Visit Count):**\")\n",
    "visit_counts_sorted.head()"
   ]
  },
  {
   "cell_type": "code",
   "execution_count": 42,
   "id": "87cc3e4f-2a2c-448b-9fdd-d8d692d20d74",
   "metadata": {},
   "outputs": [
    {
     "data": {
      "image/png": "[encoded data removed]",
      "text/plain": [
       "<Figure size 1000x600 with 1 Axes>"
      ]
     },
     "metadata": {},
     "output_type": "display_data"
    }
   ],
   "source": [
    "# Checking for patterns or trends\n",
    "\n",
    "# Plot the distribution of visit counts\n",
    "plt.figure(figsize=(10, 6))\n",
    "sns.histplot(data=visit_counts, x='visit_count', kde=True)\n",
    "plt.title('Distribution of Visit Frequencies')\n",
    "plt.xlabel('Number of Visits')\n",
    "plt.ylabel('Count')\n",
    "plt.show()\n",
    "\n",
    "# Check for any patterns or trends based on the distribution"
   ]
  },
  {
   "cell_type": "code",
   "execution_count": 43,
   "id": "e571c8a2-a841-46bf-8160-117f98208d37",
   "metadata": {},
   "outputs": [
    {
     "data": {
      "text/markdown": [
       "**Descriptive Statistics of Visit Counts:**"
      ],
      "text/plain": [
       "<IPython.core.display.Markdown object>"
      ]
     },
     "metadata": {},
     "output_type": "display_data"
    },
    {
     "data": {
      "text/plain": [
       "count    4594.000000\n",
       "mean       15.299739\n",
       "std         5.474766\n",
       "min         3.000000\n",
       "25%        11.000000\n",
       "50%        15.000000\n",
       "75%        19.000000\n",
       "max        31.000000\n",
       "Name: visit_count, dtype: float64"
      ]
     },
     "metadata": {},
     "output_type": "display_data"
    },
    {
     "data": {
      "text/markdown": [
       "\n",
       "### Observations:\n",
       "- The mean visit count is 15.30.</br>\n",
       "The mean visit count is relatively low, indicating that, on average, customers visit the website a few times.\n",
       "- The median visit count is 15.0.</br>\n",
       "The median visit count is lower than the mean, suggesting that there are a few customers with a high visit frequency, pulling the mean up.\n",
       "- The minimum visit count is 3.0.</br>\n",
       "The minimum visit count is 3, indicating that some customers visited the website only three times during the observed period.\n",
       "- The maximum visit count is 31.0.</br>\n",
       "The maximum visit count is relatively high, indicating that some customers visit the website frequently.\n",
       "- There is a wide range of visit counts, indicating variation in customer visit frequency.\n",
       "- The distribution of visit counts is right-skewed, with most customers having a low number of visits. This suggests that the majority of customers visit the website infrequently.\n",
       "- However, there is a small number of customers with a relatively high number of visits compared to the majority, indicating a segment of highly engaged customers.\n",
       "\n"
      ],
      "text/plain": [
       "<IPython.core.display.Markdown object>"
      ]
     },
     "metadata": {},
     "output_type": "display_data"
    }
   ],
   "source": [
    "# Calculate descriptive statistics of visit counts\n",
    "visit_stats = visit_counts['visit_count'].describe()\n",
    "\n",
    "# Display the descriptive statistics\n",
    "display(Markdown(\"**Descriptive Statistics of Visit Counts:**\"))\n",
    "display(visit_stats)\n",
    "\n",
    "# Stating observations\n",
    "observations = \"\"\"\n",
    "### Observations:\n",
    "- The mean visit count is {mean:.2f}.</br>\n",
    "The mean visit count is relatively low, indicating that, on average, customers visit the website a few times.\n",
    "- The median visit count is {median}.</br>\n",
    "The median visit count is lower than the mean, suggesting that there are a few customers with a high visit frequency, pulling the mean up.\n",
    "- The minimum visit count is {min}.</br>\n",
    "The minimum visit count is 3, indicating that some customers visited the website only three times during the observed period.\n",
    "- The maximum visit count is {max}.</br>\n",
    "The maximum visit count is relatively high, indicating that some customers visit the website frequently.\n",
    "- There is a wide range of visit counts, indicating variation in customer visit frequency.\n",
    "- The distribution of visit counts is right-skewed, with most customers having a low number of visits. This suggests that the majority of customers visit the website infrequently.\n",
    "- However, there is a small number of customers with a relatively high number of visits compared to the majority, indicating a segment of highly engaged customers.\n",
    "\n",
    "\"\"\"\n",
    "printmd(observations.format(mean=visit_stats['mean'], median=visit_stats['50%'], min=visit_stats['min'], max=visit_stats['max']))\n"
   ]
  },
  {
   "cell_type": "code",
   "execution_count": 44,
   "id": "8354dc7e-530c-477c-8ed3-73de45c4393c",
   "metadata": {},
   "outputs": [
    {
     "data": {
      "text/plain": [
       "visit_count\n",
       "18    325\n",
       "17    283\n",
       "15    283\n",
       "19    273\n",
       "14    272\n",
       "16    265\n",
       "12    261\n",
       "11    259\n",
       "21    246\n",
       "13    236\n",
       "20    234\n",
       "10    230\n",
       "9     203\n",
       "8     190\n",
       "22    176\n",
       "23    157\n",
       "7     147\n",
       "24    126\n",
       "6     121\n",
       "25     86\n",
       "5      80\n",
       "26     37\n",
       "27     33\n",
       "4      32\n",
       "28     14\n",
       "3      12\n",
       "29      8\n",
       "30      4\n",
       "31      1\n",
       "Name: count, dtype: int64"
      ]
     },
     "execution_count": 44,
     "metadata": {},
     "output_type": "execute_result"
    }
   ],
   "source": [
    "visit_counts.visit_count.value_counts().sort_values(ascending=False)"
   ]
  },
  {
   "cell_type": "code",
   "execution_count": null,
   "id": "718ac04d-50fa-4e71-86f6-4af51c388d59",
   "metadata": {},
   "outputs": [],
   "source": []
  },
  {
   "cell_type": "markdown",
   "id": "2f81b7c7-2cab-4121-b7e0-9e6ee94dc226",
   "metadata": {},
   "source": [
    "## b. Location Analysis:\n",
    "- What is the customer's location based on the provided data?\n",
    "- How might the customer's location influence their purchasing behavior?"
   ]
  },
  {
   "cell_type": "code",
   "execution_count": 45,
   "id": "43c47fea-b5bc-4efa-805e-825cf5aa5165",
   "metadata": {
    "scrolled": true
   },
   "outputs": [
    {
     "data": {
      "text/markdown": [
       "**Locations Of Various Customers:**"
      ],
      "text/plain": [
       "<IPython.core.display.Markdown object>"
      ]
     },
     "metadata": {},
     "output_type": "display_data"
    },
    {
     "name": "stdout",
     "output_type": "stream",
     "text": [
      "Saint Helena\n",
      "Djibouti\n",
      "Ecuador\n",
      "Mali\n",
      "Grenada\n",
      "United States Minor Outlying Islands\n",
      "Aruba\n",
      "Germany\n",
      "Saint Pierre and Miquelon\n",
      "Sudan\n",
      "Palestinian Territory\n",
      "North Macedonia\n",
      "Qatar\n",
      "Israel\n",
      "Netherlands Antilles\n",
      "French Guiana\n",
      "India\n",
      "Switzerland\n",
      "Canada\n",
      "Philippines\n",
      "Christmas Island\n",
      "Micronesia\n",
      "British Virgin Islands\n",
      "Barbados\n",
      "Guadeloupe\n",
      "Chad\n",
      "Bouvet Island (Bouvetoya)\n",
      "Mauritania\n",
      "Thailand\n",
      "Tuvalu\n",
      "Poland\n",
      "Greenland\n",
      "Saint Martin\n",
      "Guatemala\n",
      "Bermuda\n",
      "Australia\n",
      "Malawi\n",
      "Mozambique\n",
      "Costa Rica\n",
      "Oman\n",
      "Armenia\n",
      "Tokelau\n",
      "Myanmar\n",
      "Angola\n",
      "Sierra Leone\n",
      "Denmark\n",
      "Falkland Islands (Malvinas)\n",
      "Taiwan\n",
      "Norfolk Island\n",
      "Egypt\n",
      "Yemen\n",
      "Cocos (Keeling) Islands\n",
      "Northern Mariana Islands\n",
      "Chile\n",
      "Iraq\n",
      "Antigua and Barbuda\n",
      "Guam\n",
      "Bahrain\n",
      "Singapore\n",
      "Jordan\n",
      "Serbia\n",
      "Kazakhstan\n",
      "Guinea-Bissau\n",
      "Algeria\n",
      "Lao People's Democratic Republic\n",
      "Samoa\n",
      "Puerto Rico\n",
      "China\n",
      "Marshall Islands\n",
      "Eritrea\n",
      "Liberia\n",
      "Monaco\n",
      "Isle of Man\n",
      "Finland\n",
      "French Polynesia\n",
      "San Marino\n",
      "Rwanda\n",
      "New Caledonia\n",
      "Antarctica (the territory South of 60 deg S)\n",
      "Romania\n",
      "Guyana\n",
      "Equatorial Guinea\n",
      "Montenegro\n",
      "Bosnia and Herzegovina\n",
      "Sri Lanka\n",
      "Wallis and Futuna\n",
      "Benin\n",
      "Korea\n",
      "Syrian Arab Republic\n",
      "Mauritius\n",
      "Timor-Leste\n",
      "Jersey\n",
      "Cape Verde\n",
      "Guernsey\n",
      "Seychelles\n",
      "Vanuatu\n",
      "Congo\n",
      "Bolivia\n",
      "Panama\n",
      "Ukraine\n",
      "Morocco\n",
      "Palau\n",
      "Azerbaijan\n",
      "Tajikistan\n",
      "Brunei Darussalam\n",
      "Mexico\n",
      "Solomon Islands\n",
      "El Salvador\n",
      "Cuba\n",
      "Cyprus\n",
      "Mayotte\n",
      "South Georgia and the South Sandwich Islands\n",
      "Bulgaria\n",
      "Argentina\n",
      "Tunisia\n",
      "Dominican Republic\n",
      "Latvia\n",
      "Afghanistan\n",
      "Turkmenistan\n",
      "Western Sahara\n",
      "Vietnam\n",
      "Slovakia (Slovak Republic)\n",
      "Malaysia\n",
      "Andorra\n",
      "Saint Barthelemy\n",
      "Bahamas\n",
      "Cook Islands\n",
      "Burkina Faso\n",
      "Central African Republic\n",
      "Uganda\n",
      "Sweden\n",
      "Moldova\n",
      "Russian Federation\n",
      "Czech Republic\n",
      "British Indian Ocean Territory (Chagos Archipelago)\n",
      "Cote d'Ivoire\n",
      "Comoros\n",
      "Madagascar\n",
      "Maldives\n",
      "Bhutan\n",
      "United States of America\n",
      "Saudi Arabia\n",
      "Belarus\n",
      "Ireland\n",
      "Paraguay\n",
      "Fiji\n",
      "Pitcairn Islands\n",
      "Luxembourg\n",
      "Hungary\n",
      "Honduras\n",
      "Hong Kong\n",
      "Niue\n",
      "Estonia\n",
      "Suriname\n",
      "Nauru\n",
      "Liechtenstein\n",
      "Japan\n",
      "Haiti\n",
      "Belgium\n",
      "Anguilla\n",
      "Macao\n",
      "Uruguay\n",
      "Iceland\n",
      "Saint Vincent and the Grenadines\n",
      "Nepal\n",
      "Holy See (Vatican City State)\n",
      "Turks and Caicos Islands\n",
      "Uzbekistan\n",
      "Niger\n",
      "Ethiopia\n",
      "Albania\n",
      "Peru\n",
      "Portugal\n",
      "Burundi\n",
      "Guinea\n",
      "France\n",
      "Georgia\n",
      "Dominica\n",
      "Lesotho\n",
      "Montserrat\n",
      "Tanzania\n",
      "Togo\n",
      "Tonga\n",
      "Swaziland\n",
      "Kiribati\n",
      "Italy\n",
      "Malta\n",
      "Netherlands\n",
      "Papua New Guinea\n",
      "Reunion\n",
      "Lebanon\n",
      "Venezuela\n",
      "Ghana\n",
      "Saint Lucia\n",
      "Iran\n",
      "American Samoa\n",
      "Svalbard & Jan Mayen Islands\n",
      "Somalia\n",
      "New Zealand\n",
      "Norway\n",
      "Nicaragua\n",
      "Kenya\n",
      "Bangladesh\n",
      "Faroe Islands\n",
      "Saint Kitts and Nevis\n",
      "Mongolia\n",
      "Zimbabwe\n",
      "Croatia\n",
      "Libyan Arab Jamahiriya\n",
      "Indonesia\n",
      "Gabon\n",
      "Cameroon\n",
      "Belize\n",
      "South Africa\n",
      "Senegal\n",
      "Kuwait\n",
      "Greece\n",
      "Botswana\n",
      "Lithuania\n",
      "Trinidad and Tobago\n",
      "Colombia\n",
      "Turkey\n",
      "Martinique\n",
      "Jamaica\n",
      "Nigeria\n",
      "Cambodia\n",
      "Cayman Islands\n",
      "Sao Tome and Principe\n",
      "Gibraltar\n",
      "Spain\n",
      "Austria\n",
      "Heard Island and McDonald Islands\n",
      "United States Virgin Islands\n",
      "Brazil\n",
      "French Southern Territories\n",
      "Gambia\n",
      "Pakistan\n",
      "Slovenia\n",
      "Zambia\n",
      "United Kingdom\n",
      "United Arab Emirates\n",
      "Kyrgyz Republic\n",
      "Namibia\n"
     ]
    }
   ],
   "source": [
    "# Check unique values in the 'location' column\n",
    "locations = customer_data['location'].unique()\n",
    "\n",
    "printmd(\"**Locations Of Various Customers:**\")\n",
    "for location in locations:\n",
    "    print(location)"
   ]
  },
  {
   "cell_type": "code",
   "execution_count": 46,
   "id": "463307fd-3b46-4a10-823e-aa9b68593336",
   "metadata": {},
   "outputs": [],
   "source": [
    "# Check the unique values in the 'location' column\n",
    "\n",
    "# printmd(f\"\\n{customer_data['location'].unique()}\")"
   ]
  },
  {
   "cell_type": "code",
   "execution_count": 47,
   "id": "c87c7546-62c0-4192-b8ae-a54aeff44115",
   "metadata": {},
   "outputs": [
    {
     "data": {
      "text/markdown": [
       "**Customer Count by Location:**"
      ],
      "text/plain": [
       "<IPython.core.display.Markdown object>"
      ]
     },
     "metadata": {},
     "output_type": "display_data"
    },
    {
     "data": {
      "text/html": [
       "<div>\n",
       "<style scoped>\n",
       "    .dataframe tbody tr th:only-of-type {\n",
       "        vertical-align: middle;\n",
       "    }\n",
       "\n",
       "    .dataframe tbody tr th {\n",
       "        vertical-align: top;\n",
       "    }\n",
       "\n",
       "    .dataframe thead th {\n",
       "        text-align: right;\n",
       "    }\n",
       "</style>\n",
       "<table border=\"1\" class=\"dataframe\">\n",
       "  <thead>\n",
       "    <tr style=\"text-align: right;\">\n",
       "      <th></th>\n",
       "      <th>location</th>\n",
       "      <th>customer_count</th>\n",
       "    </tr>\n",
       "  </thead>\n",
       "  <tbody>\n",
       "    <tr>\n",
       "      <th>0</th>\n",
       "      <td>Korea</td>\n",
       "      <td>6997</td>\n",
       "    </tr>\n",
       "    <tr>\n",
       "      <th>1</th>\n",
       "      <td>Argentina</td>\n",
       "      <td>4507</td>\n",
       "    </tr>\n",
       "    <tr>\n",
       "      <th>2</th>\n",
       "      <td>Mauritius</td>\n",
       "      <td>4414</td>\n",
       "    </tr>\n",
       "    <tr>\n",
       "      <th>3</th>\n",
       "      <td>Jersey</td>\n",
       "      <td>4130</td>\n",
       "    </tr>\n",
       "    <tr>\n",
       "      <th>4</th>\n",
       "      <td>Panama</td>\n",
       "      <td>3936</td>\n",
       "    </tr>\n",
       "  </tbody>\n",
       "</table>\n",
       "</div>"
      ],
      "text/plain": [
       "    location  customer_count\n",
       "0      Korea            6997\n",
       "1  Argentina            4507\n",
       "2  Mauritius            4414\n",
       "3     Jersey            4130\n",
       "4     Panama            3936"
      ]
     },
     "metadata": {},
     "output_type": "display_data"
    }
   ],
   "source": [
    "# Count the number of customers in each location\n",
    "location_counts = customer_data['location'].value_counts().reset_index()\n",
    "location_counts.columns = ['location', 'customer_count']\n",
    "printmd(\"**Customer Count by Location:**\")\n",
    "display(location_counts.head())"
   ]
  },
  {
   "cell_type": "code",
   "execution_count": 48,
   "id": "7eb39552-be40-4e64-a343-cd6cd755ba06",
   "metadata": {},
   "outputs": [
    {
     "data": {
      "text/markdown": [
       "**Purchasing Behavior by Location:**"
      ],
      "text/plain": [
       "<IPython.core.display.Markdown object>"
      ]
     },
     "metadata": {},
     "output_type": "display_data"
    },
    {
     "data": {
      "text/html": [
       "<div>\n",
       "<style scoped>\n",
       "    .dataframe tbody tr th:only-of-type {\n",
       "        vertical-align: middle;\n",
       "    }\n",
       "\n",
       "    .dataframe tbody tr th {\n",
       "        vertical-align: top;\n",
       "    }\n",
       "\n",
       "    .dataframe thead tr th {\n",
       "        text-align: left;\n",
       "    }\n",
       "\n",
       "    .dataframe thead tr:last-of-type th {\n",
       "        text-align: right;\n",
       "    }\n",
       "</style>\n",
       "<table border=\"1\" class=\"dataframe\">\n",
       "  <thead>\n",
       "    <tr>\n",
       "      <th></th>\n",
       "      <th colspan=\"2\" halign=\"left\">price</th>\n",
       "      <th colspan=\"2\" halign=\"left\">quantity</th>\n",
       "    </tr>\n",
       "    <tr>\n",
       "      <th></th>\n",
       "      <th>sum</th>\n",
       "      <th>mean</th>\n",
       "      <th>sum</th>\n",
       "      <th>mean</th>\n",
       "    </tr>\n",
       "    <tr>\n",
       "      <th>location</th>\n",
       "      <th></th>\n",
       "      <th></th>\n",
       "      <th></th>\n",
       "      <th></th>\n",
       "    </tr>\n",
       "  </thead>\n",
       "  <tbody>\n",
       "    <tr>\n",
       "      <th>Afghanistan</th>\n",
       "      <td>1599882.86</td>\n",
       "      <td>801.946296</td>\n",
       "      <td>6239</td>\n",
       "      <td>3.127318</td>\n",
       "    </tr>\n",
       "    <tr>\n",
       "      <th>Albania</th>\n",
       "      <td>2616473.17</td>\n",
       "      <td>703.163980</td>\n",
       "      <td>10857</td>\n",
       "      <td>2.917764</td>\n",
       "    </tr>\n",
       "    <tr>\n",
       "      <th>Algeria</th>\n",
       "      <td>1201012.33</td>\n",
       "      <td>652.015380</td>\n",
       "      <td>5231</td>\n",
       "      <td>2.839848</td>\n",
       "    </tr>\n",
       "    <tr>\n",
       "      <th>American Samoa</th>\n",
       "      <td>1168791.48</td>\n",
       "      <td>694.881974</td>\n",
       "      <td>5213</td>\n",
       "      <td>3.099287</td>\n",
       "    </tr>\n",
       "    <tr>\n",
       "      <th>Andorra</th>\n",
       "      <td>2020906.52</td>\n",
       "      <td>758.598544</td>\n",
       "      <td>7402</td>\n",
       "      <td>2.778529</td>\n",
       "    </tr>\n",
       "    <tr>\n",
       "      <th>...</th>\n",
       "      <td>...</td>\n",
       "      <td>...</td>\n",
       "      <td>...</td>\n",
       "      <td>...</td>\n",
       "    </tr>\n",
       "    <tr>\n",
       "      <th>Wallis and Futuna</th>\n",
       "      <td>1217759.26</td>\n",
       "      <td>693.090074</td>\n",
       "      <td>5491</td>\n",
       "      <td>3.125213</td>\n",
       "    </tr>\n",
       "    <tr>\n",
       "      <th>Western Sahara</th>\n",
       "      <td>1454831.54</td>\n",
       "      <td>752.239679</td>\n",
       "      <td>5770</td>\n",
       "      <td>2.983454</td>\n",
       "    </tr>\n",
       "    <tr>\n",
       "      <th>Yemen</th>\n",
       "      <td>1005931.74</td>\n",
       "      <td>726.829292</td>\n",
       "      <td>4123</td>\n",
       "      <td>2.979046</td>\n",
       "    </tr>\n",
       "    <tr>\n",
       "      <th>Zambia</th>\n",
       "      <td>1213199.25</td>\n",
       "      <td>754.477146</td>\n",
       "      <td>4805</td>\n",
       "      <td>2.988184</td>\n",
       "    </tr>\n",
       "    <tr>\n",
       "      <th>Zimbabwe</th>\n",
       "      <td>1217643.85</td>\n",
       "      <td>648.718087</td>\n",
       "      <td>6125</td>\n",
       "      <td>3.263186</td>\n",
       "    </tr>\n",
       "  </tbody>\n",
       "</table>\n",
       "<p>243 rows × 4 columns</p>\n",
       "</div>"
      ],
      "text/plain": [
       "                        price             quantity          \n",
       "                          sum        mean      sum      mean\n",
       "location                                                    \n",
       "Afghanistan        1599882.86  801.946296     6239  3.127318\n",
       "Albania            2616473.17  703.163980    10857  2.917764\n",
       "Algeria            1201012.33  652.015380     5231  2.839848\n",
       "American Samoa     1168791.48  694.881974     5213  3.099287\n",
       "Andorra            2020906.52  758.598544     7402  2.778529\n",
       "...                       ...         ...      ...       ...\n",
       "Wallis and Futuna  1217759.26  693.090074     5491  3.125213\n",
       "Western Sahara     1454831.54  752.239679     5770  2.983454\n",
       "Yemen              1005931.74  726.829292     4123  2.979046\n",
       "Zambia             1213199.25  754.477146     4805  2.988184\n",
       "Zimbabwe           1217643.85  648.718087     6125  3.263186\n",
       "\n",
       "[243 rows x 4 columns]"
      ]
     },
     "metadata": {},
     "output_type": "display_data"
    },
    {
     "data": {
      "text/markdown": [
       "\n",
       "### Observations:\n",
       "- The 'sum' column represents the total spending (price) or total quantity purchased by each location.\n",
       "- The 'mean' column represents the average spending (price) or average quantity purchased by each location.\n",
       "- Locations with higher total spending indicate areas with higher purchasing power or more active customer base.\n",
       "- Locations with higher average spending indicate areas where customers tend to purchase higher-priced items.\n",
       "- Locations with higher total quantity purchased indicate areas with higher demand or larger customer base.\n",
       "- Locations with higher average quantity purchased indicate areas where customers tend to purchase items in larger quantities.\n",
       "- By comparing purchasing behavior across different locations, we can identify geographical patterns in customer behavior and tailor marketing strategies accordingly.\n"
      ],
      "text/plain": [
       "<IPython.core.display.Markdown object>"
      ]
     },
     "metadata": {},
     "output_type": "display_data"
    }
   ],
   "source": [
    "# Analyze purchasing behavior by location\n",
    "\n",
    "# Filter purchase data (orders with non-null order_id)\n",
    "purchase_data = customer_data[customer_data['order_id'].notnull()]\n",
    "\n",
    "# Group by location and calculate purchasing statistics\n",
    "location_purchase_stats = purchase_data.groupby('location').agg({'price': ['sum', 'mean'], 'quantity': ['sum', 'mean']})\n",
    "\n",
    "printmd(\"**Purchasing Behavior by Location:**\")\n",
    "display(location_purchase_stats)\n",
    "\n",
    "# Stating observations\n",
    "observations = \"\"\"\n",
    "### Observations:\n",
    "- The 'sum' column represents the total spending (price) or total quantity purchased by each location.\n",
    "- The 'mean' column represents the average spending (price) or average quantity purchased by each location.\n",
    "- Locations with higher total spending indicate areas with higher purchasing power or more active customer base.\n",
    "- Locations with higher average spending indicate areas where customers tend to purchase higher-priced items.\n",
    "- Locations with higher total quantity purchased indicate areas with higher demand or larger customer base.\n",
    "- Locations with higher average quantity purchased indicate areas where customers tend to purchase items in larger quantities.\n",
    "- By comparing purchasing behavior across different locations, we can identify geographical patterns in customer behavior and tailor marketing strategies accordingly.\n",
    "\"\"\"\n",
    "printmd(observations)"
   ]
  },
  {
   "cell_type": "markdown",
   "id": "242ba7ee-d6ca-49d6-a579-267f48a5fa9c",
   "metadata": {},
   "source": [
    "## c. Overall Purchase Behavior:\n",
    "- Based on the data provided, what insights can you draw about this customer's overall behavior on the website?\n",
    "- How might these insights inform marketing strategies or personalized recommendations for this customer?\n"
   ]
  },
  {
   "cell_type": "code",
   "execution_count": 49,
   "id": "c6415202-d172-4f3b-9767-7865b55b91d9",
   "metadata": {},
   "outputs": [
    {
     "data": {
      "text/markdown": [
       "**Summary of Order**"
      ],
      "text/plain": [
       "<IPython.core.display.Markdown object>"
      ]
     },
     "metadata": {},
     "output_type": "display_data"
    },
    {
     "data": {
      "text/markdown": [
       "Total Number of Orders: **4594**"
      ],
      "text/plain": [
       "<IPython.core.display.Markdown object>"
      ]
     },
     "metadata": {},
     "output_type": "display_data"
    },
    {
     "data": {
      "text/markdown": [
       "Total Revenue: **409131679.43**"
      ],
      "text/plain": [
       "<IPython.core.display.Markdown object>"
      ]
     },
     "metadata": {},
     "output_type": "display_data"
    },
    {
     "data": {
      "text/markdown": [
       "Average Order Value: **89057.83**"
      ],
      "text/plain": [
       "<IPython.core.display.Markdown object>"
      ]
     },
     "metadata": {},
     "output_type": "display_data"
    },
    {
     "data": {
      "text/markdown": [
       "Average Items per Order: **378.90**"
      ],
      "text/plain": [
       "<IPython.core.display.Markdown object>"
      ]
     },
     "metadata": {},
     "output_type": "display_data"
    }
   ],
   "source": [
    "# Summary of orders\n",
    "\n",
    "# Filter the data to include only rows with orders\n",
    "order_data = customer_data[customer_data['order_id'].notnull()]\n",
    "\n",
    "# Calculate the total number of orders and total revenue\n",
    "total_orders = order_data['order_id'].nunique()\n",
    "total_revenue = order_data['price'].sum()\n",
    "\n",
    "# Calculate the average order value and average items per order\n",
    "avg_order_value = order_data.groupby('order_id')['price'].sum().mean()\n",
    "avg_items_per_order = order_data.groupby('order_id')['quantity'].sum().mean()\n",
    "\n",
    "printmd(\"**Summary of Order**\")\n",
    "printmd(f\"Total Number of Orders: **{total_orders}**\")\n",
    "printmd(f\"Total Revenue: **{total_revenue:.2f}**\")\n",
    "printmd(f\"Average Order Value: **{avg_order_value:.2f}**\")\n",
    "printmd(f\"Average Items per Order: **{avg_items_per_order:.2f}**\")"
   ]
  },
  {
   "cell_type": "code",
   "execution_count": 50,
   "id": "ff21bdaf-435f-4186-86f4-cba051e2f0e2",
   "metadata": {},
   "outputs": [
    {
     "data": {
      "text/markdown": [
       "**Product Purchase Frequency**"
      ],
      "text/plain": [
       "<IPython.core.display.Markdown object>"
      ]
     },
     "metadata": {},
     "output_type": "display_data"
    },
    {
     "data": {
      "text/markdown": [
       "**Frequency of Purchases by customers**"
      ],
      "text/plain": [
       "<IPython.core.display.Markdown object>"
      ]
     },
     "metadata": {},
     "output_type": "display_data"
    },
    {
     "data": {
      "text/plain": [
       "customer_id\n",
       "00096d0c    1\n",
       "000c7914    1\n",
       "000d9458    1\n",
       "000e74fd    1\n",
       "001c37e2    1\n",
       "Name: order_id, dtype: int64"
      ]
     },
     "metadata": {},
     "output_type": "display_data"
    },
    {
     "data": {
      "text/markdown": [
       "**Total Spending by customers**"
      ],
      "text/plain": [
       "<IPython.core.display.Markdown object>"
      ]
     },
     "metadata": {},
     "output_type": "display_data"
    },
    {
     "data": {
      "text/plain": [
       "customer_id\n",
       "00096d0c    218174.55\n",
       "000c7914    198072.50\n",
       "000d9458    235652.16\n",
       "000e74fd     12599.88\n",
       "001c37e2     33599.58\n",
       "Name: price, dtype: float64"
      ]
     },
     "metadata": {},
     "output_type": "display_data"
    },
    {
     "data": {
      "text/markdown": [
       "**Average Spending by customers**"
      ],
      "text/plain": [
       "<IPython.core.display.Markdown object>"
      ]
     },
     "metadata": {},
     "output_type": "display_data"
    },
    {
     "data": {
      "text/html": [
       "<div>\n",
       "<style scoped>\n",
       "    .dataframe tbody tr th:only-of-type {\n",
       "        vertical-align: middle;\n",
       "    }\n",
       "\n",
       "    .dataframe tbody tr th {\n",
       "        vertical-align: top;\n",
       "    }\n",
       "\n",
       "    .dataframe thead th {\n",
       "        text-align: right;\n",
       "    }\n",
       "</style>\n",
       "<table border=\"1\" class=\"dataframe\">\n",
       "  <thead>\n",
       "    <tr style=\"text-align: right;\">\n",
       "      <th></th>\n",
       "      <th>customer_id</th>\n",
       "      <th>average_spending</th>\n",
       "    </tr>\n",
       "  </thead>\n",
       "  <tbody>\n",
       "    <tr>\n",
       "      <th>0</th>\n",
       "      <td>00096d0c</td>\n",
       "      <td>862.350000</td>\n",
       "    </tr>\n",
       "    <tr>\n",
       "      <th>1</th>\n",
       "      <td>000c7914</td>\n",
       "      <td>720.263636</td>\n",
       "    </tr>\n",
       "    <tr>\n",
       "      <th>2</th>\n",
       "      <td>000d9458</td>\n",
       "      <td>818.236667</td>\n",
       "    </tr>\n",
       "    <tr>\n",
       "      <th>3</th>\n",
       "      <td>000e74fd</td>\n",
       "      <td>1049.990000</td>\n",
       "    </tr>\n",
       "    <tr>\n",
       "      <th>4</th>\n",
       "      <td>001c37e2</td>\n",
       "      <td>799.990000</td>\n",
       "    </tr>\n",
       "  </tbody>\n",
       "</table>\n",
       "</div>"
      ],
      "text/plain": [
       "  customer_id  average_spending\n",
       "0    00096d0c        862.350000\n",
       "1    000c7914        720.263636\n",
       "2    000d9458        818.236667\n",
       "3    000e74fd       1049.990000\n",
       "4    001c37e2        799.990000"
      ]
     },
     "metadata": {},
     "output_type": "display_data"
    },
    {
     "data": {
      "text/markdown": [
       "**Most Frequently Purchased Products:**"
      ],
      "text/plain": [
       "<IPython.core.display.Markdown object>"
      ]
     },
     "metadata": {},
     "output_type": "display_data"
    },
    {
     "data": {
      "text/html": [
       "<div>\n",
       "<style scoped>\n",
       "    .dataframe tbody tr th:only-of-type {\n",
       "        vertical-align: middle;\n",
       "    }\n",
       "\n",
       "    .dataframe tbody tr th {\n",
       "        vertical-align: top;\n",
       "    }\n",
       "\n",
       "    .dataframe thead th {\n",
       "        text-align: right;\n",
       "    }\n",
       "</style>\n",
       "<table border=\"1\" class=\"dataframe\">\n",
       "  <thead>\n",
       "    <tr style=\"text-align: right;\">\n",
       "      <th></th>\n",
       "      <th>product_name</th>\n",
       "      <th>purchase_count</th>\n",
       "    </tr>\n",
       "  </thead>\n",
       "  <tbody>\n",
       "    <tr>\n",
       "      <th>0</th>\n",
       "      <td>Canon EOS R5 Camera</td>\n",
       "      <td>39715</td>\n",
       "    </tr>\n",
       "    <tr>\n",
       "      <th>1</th>\n",
       "      <td>Fitbit Charge 4</td>\n",
       "      <td>39268</td>\n",
       "    </tr>\n",
       "    <tr>\n",
       "      <th>2</th>\n",
       "      <td>Sony WH-1000XM4 Headphones</td>\n",
       "      <td>39162</td>\n",
       "    </tr>\n",
       "    <tr>\n",
       "      <th>3</th>\n",
       "      <td>Dell XPS 13 Laptop</td>\n",
       "      <td>39084</td>\n",
       "    </tr>\n",
       "    <tr>\n",
       "      <th>4</th>\n",
       "      <td>Samsung Galaxy S21</td>\n",
       "      <td>38997</td>\n",
       "    </tr>\n",
       "  </tbody>\n",
       "</table>\n",
       "</div>"
      ],
      "text/plain": [
       "                 product_name  purchase_count\n",
       "0         Canon EOS R5 Camera           39715\n",
       "1             Fitbit Charge 4           39268\n",
       "2  Sony WH-1000XM4 Headphones           39162\n",
       "3          Dell XPS 13 Laptop           39084\n",
       "4          Samsung Galaxy S21           38997"
      ]
     },
     "metadata": {},
     "output_type": "display_data"
    },
    {
     "data": {
      "text/markdown": [
       "\n",
       "**Average Days Between Purchases:** 0.00"
      ],
      "text/plain": [
       "<IPython.core.display.Markdown object>"
      ]
     },
     "metadata": {},
     "output_type": "display_data"
    },
    {
     "data": {
      "text/markdown": [
       "**Checkout Patterns:**"
      ],
      "text/plain": [
       "<IPython.core.display.Markdown object>"
      ]
     },
     "metadata": {},
     "output_type": "display_data"
    },
    {
     "data": {
      "text/html": [
       "<div>\n",
       "<style scoped>\n",
       "    .dataframe tbody tr th:only-of-type {\n",
       "        vertical-align: middle;\n",
       "    }\n",
       "\n",
       "    .dataframe tbody tr th {\n",
       "        vertical-align: top;\n",
       "    }\n",
       "\n",
       "    .dataframe thead th {\n",
       "        text-align: right;\n",
       "    }\n",
       "</style>\n",
       "<table border=\"1\" class=\"dataframe\">\n",
       "  <thead>\n",
       "    <tr style=\"text-align: right;\">\n",
       "      <th>Day</th>\n",
       "      <th>Friday</th>\n",
       "      <th>Monday</th>\n",
       "      <th>Saturday</th>\n",
       "      <th>Sunday</th>\n",
       "      <th>Thursday</th>\n",
       "      <th>Tuesday</th>\n",
       "      <th>Wednesday</th>\n",
       "    </tr>\n",
       "    <tr>\n",
       "      <th>Hour</th>\n",
       "      <th></th>\n",
       "      <th></th>\n",
       "      <th></th>\n",
       "      <th></th>\n",
       "      <th></th>\n",
       "      <th></th>\n",
       "      <th></th>\n",
       "    </tr>\n",
       "  </thead>\n",
       "  <tbody>\n",
       "    <tr>\n",
       "      <th>0</th>\n",
       "      <td>407</td>\n",
       "      <td>178</td>\n",
       "      <td>159</td>\n",
       "      <td>218</td>\n",
       "      <td>390</td>\n",
       "      <td>147</td>\n",
       "      <td>474</td>\n",
       "    </tr>\n",
       "    <tr>\n",
       "      <th>1</th>\n",
       "      <td>367</td>\n",
       "      <td>176</td>\n",
       "      <td>214</td>\n",
       "      <td>221</td>\n",
       "      <td>538</td>\n",
       "      <td>200</td>\n",
       "      <td>423</td>\n",
       "    </tr>\n",
       "    <tr>\n",
       "      <th>2</th>\n",
       "      <td>413</td>\n",
       "      <td>233</td>\n",
       "      <td>198</td>\n",
       "      <td>110</td>\n",
       "      <td>381</td>\n",
       "      <td>273</td>\n",
       "      <td>398</td>\n",
       "    </tr>\n",
       "    <tr>\n",
       "      <th>3</th>\n",
       "      <td>462</td>\n",
       "      <td>248</td>\n",
       "      <td>125</td>\n",
       "      <td>214</td>\n",
       "      <td>540</td>\n",
       "      <td>193</td>\n",
       "      <td>319</td>\n",
       "    </tr>\n",
       "    <tr>\n",
       "      <th>4</th>\n",
       "      <td>210</td>\n",
       "      <td>254</td>\n",
       "      <td>530115</td>\n",
       "      <td>205</td>\n",
       "      <td>322</td>\n",
       "      <td>447</td>\n",
       "      <td>402</td>\n",
       "    </tr>\n",
       "    <tr>\n",
       "      <th>5</th>\n",
       "      <td>198</td>\n",
       "      <td>204</td>\n",
       "      <td>230</td>\n",
       "      <td>140</td>\n",
       "      <td>500</td>\n",
       "      <td>354</td>\n",
       "      <td>425</td>\n",
       "    </tr>\n",
       "    <tr>\n",
       "      <th>6</th>\n",
       "      <td>174</td>\n",
       "      <td>141</td>\n",
       "      <td>197</td>\n",
       "      <td>242</td>\n",
       "      <td>315</td>\n",
       "      <td>469</td>\n",
       "      <td>340</td>\n",
       "    </tr>\n",
       "    <tr>\n",
       "      <th>7</th>\n",
       "      <td>126</td>\n",
       "      <td>215</td>\n",
       "      <td>124</td>\n",
       "      <td>233</td>\n",
       "      <td>377</td>\n",
       "      <td>312</td>\n",
       "      <td>368</td>\n",
       "    </tr>\n",
       "    <tr>\n",
       "      <th>8</th>\n",
       "      <td>224</td>\n",
       "      <td>244</td>\n",
       "      <td>272</td>\n",
       "      <td>188</td>\n",
       "      <td>409</td>\n",
       "      <td>439</td>\n",
       "      <td>395</td>\n",
       "    </tr>\n",
       "    <tr>\n",
       "      <th>9</th>\n",
       "      <td>189</td>\n",
       "      <td>230</td>\n",
       "      <td>275</td>\n",
       "      <td>195</td>\n",
       "      <td>370</td>\n",
       "      <td>302</td>\n",
       "      <td>445</td>\n",
       "    </tr>\n",
       "    <tr>\n",
       "      <th>10</th>\n",
       "      <td>154</td>\n",
       "      <td>171</td>\n",
       "      <td>227</td>\n",
       "      <td>295</td>\n",
       "      <td>459</td>\n",
       "      <td>330</td>\n",
       "      <td>454</td>\n",
       "    </tr>\n",
       "    <tr>\n",
       "      <th>11</th>\n",
       "      <td>246</td>\n",
       "      <td>263</td>\n",
       "      <td>203</td>\n",
       "      <td>155</td>\n",
       "      <td>308</td>\n",
       "      <td>329</td>\n",
       "      <td>393</td>\n",
       "    </tr>\n",
       "    <tr>\n",
       "      <th>12</th>\n",
       "      <td>198</td>\n",
       "      <td>166</td>\n",
       "      <td>206</td>\n",
       "      <td>174</td>\n",
       "      <td>423</td>\n",
       "      <td>333</td>\n",
       "      <td>515</td>\n",
       "    </tr>\n",
       "    <tr>\n",
       "      <th>13</th>\n",
       "      <td>162</td>\n",
       "      <td>205</td>\n",
       "      <td>221</td>\n",
       "      <td>159</td>\n",
       "      <td>347</td>\n",
       "      <td>433</td>\n",
       "      <td>445</td>\n",
       "    </tr>\n",
       "    <tr>\n",
       "      <th>14</th>\n",
       "      <td>196</td>\n",
       "      <td>198</td>\n",
       "      <td>226</td>\n",
       "      <td>291</td>\n",
       "      <td>476</td>\n",
       "      <td>392</td>\n",
       "      <td>464</td>\n",
       "    </tr>\n",
       "    <tr>\n",
       "      <th>15</th>\n",
       "      <td>194</td>\n",
       "      <td>199</td>\n",
       "      <td>185</td>\n",
       "      <td>167</td>\n",
       "      <td>339</td>\n",
       "      <td>383</td>\n",
       "      <td>428</td>\n",
       "    </tr>\n",
       "    <tr>\n",
       "      <th>16</th>\n",
       "      <td>192</td>\n",
       "      <td>274</td>\n",
       "      <td>221</td>\n",
       "      <td>226</td>\n",
       "      <td>408</td>\n",
       "      <td>330</td>\n",
       "      <td>390</td>\n",
       "    </tr>\n",
       "    <tr>\n",
       "      <th>17</th>\n",
       "      <td>180</td>\n",
       "      <td>232</td>\n",
       "      <td>155</td>\n",
       "      <td>136</td>\n",
       "      <td>381</td>\n",
       "      <td>454</td>\n",
       "      <td>474</td>\n",
       "    </tr>\n",
       "    <tr>\n",
       "      <th>18</th>\n",
       "      <td>206</td>\n",
       "      <td>218</td>\n",
       "      <td>234</td>\n",
       "      <td>183</td>\n",
       "      <td>456</td>\n",
       "      <td>355</td>\n",
       "      <td>427</td>\n",
       "    </tr>\n",
       "    <tr>\n",
       "      <th>19</th>\n",
       "      <td>243</td>\n",
       "      <td>171</td>\n",
       "      <td>160</td>\n",
       "      <td>201</td>\n",
       "      <td>342</td>\n",
       "      <td>259</td>\n",
       "      <td>388</td>\n",
       "    </tr>\n",
       "    <tr>\n",
       "      <th>20</th>\n",
       "      <td>235</td>\n",
       "      <td>201</td>\n",
       "      <td>156</td>\n",
       "      <td>235</td>\n",
       "      <td>258</td>\n",
       "      <td>445</td>\n",
       "      <td>397</td>\n",
       "    </tr>\n",
       "    <tr>\n",
       "      <th>21</th>\n",
       "      <td>200</td>\n",
       "      <td>237</td>\n",
       "      <td>271</td>\n",
       "      <td>200</td>\n",
       "      <td>430</td>\n",
       "      <td>404</td>\n",
       "      <td>418</td>\n",
       "    </tr>\n",
       "    <tr>\n",
       "      <th>22</th>\n",
       "      <td>232</td>\n",
       "      <td>194</td>\n",
       "      <td>204</td>\n",
       "      <td>193</td>\n",
       "      <td>431</td>\n",
       "      <td>366</td>\n",
       "      <td>518</td>\n",
       "    </tr>\n",
       "    <tr>\n",
       "      <th>23</th>\n",
       "      <td>281</td>\n",
       "      <td>169</td>\n",
       "      <td>182</td>\n",
       "      <td>198</td>\n",
       "      <td>385</td>\n",
       "      <td>439</td>\n",
       "      <td>398</td>\n",
       "    </tr>\n",
       "  </tbody>\n",
       "</table>\n",
       "</div>"
      ],
      "text/plain": [
       "Day   Friday  Monday  Saturday  Sunday  Thursday  Tuesday  Wednesday\n",
       "Hour                                                                \n",
       "0        407     178       159     218       390      147        474\n",
       "1        367     176       214     221       538      200        423\n",
       "2        413     233       198     110       381      273        398\n",
       "3        462     248       125     214       540      193        319\n",
       "4        210     254    530115     205       322      447        402\n",
       "5        198     204       230     140       500      354        425\n",
       "6        174     141       197     242       315      469        340\n",
       "7        126     215       124     233       377      312        368\n",
       "8        224     244       272     188       409      439        395\n",
       "9        189     230       275     195       370      302        445\n",
       "10       154     171       227     295       459      330        454\n",
       "11       246     263       203     155       308      329        393\n",
       "12       198     166       206     174       423      333        515\n",
       "13       162     205       221     159       347      433        445\n",
       "14       196     198       226     291       476      392        464\n",
       "15       194     199       185     167       339      383        428\n",
       "16       192     274       221     226       408      330        390\n",
       "17       180     232       155     136       381      454        474\n",
       "18       206     218       234     183       456      355        427\n",
       "19       243     171       160     201       342      259        388\n",
       "20       235     201       156     235       258      445        397\n",
       "21       200     237       271     200       430      404        418\n",
       "22       232     194       204     193       431      366        518\n",
       "23       281     169       182     198       385      439        398"
      ]
     },
     "metadata": {},
     "output_type": "display_data"
    },
    {
     "data": {
      "text/markdown": [
       "\n",
       "### Recommendations:\n",
       "Based on these insights, i can derive the following marketing strategies or personalized recommendations:\n",
       "\n",
       "- Increase Engagement: Encourage customers with low purchase frequency to make more purchases through targeted promotions or incentives.\n",
       "- Retention Strategies: Encourage repeat visits through loyalty programs or exclusive promotions.\n",
       "- Upsell/Cross-Sell: Recommend products similar to popular products to increase sales and improve customer satisfaction.\n",
       "- Targeted Offers: Based on purchase history, offer personalized discounts or product recommendations.\n",
       "- Optimize Marketing Timing: Schedule marketing campaigns during peak purchase hours, days, or months to maximize impact.\n",
       "- Improve Customer Experience: Analyze factors influencing average spending and adjust pricing or offer discounts to enhance customer experience and loyalty.\n",
       "- Targeted Promotions: Design targeted promotions based on customer location or purchase patterns to increase conversion rates.\n",
       "- Segmentation: Group customers based on behavior (e.g., frequent shoppers, occasional buyers).\n"
      ],
      "text/plain": [
       "<IPython.core.display.Markdown object>"
      ]
     },
     "metadata": {},
     "output_type": "display_data"
    }
   ],
   "source": [
    "printmd(\"**Product Purchase Frequency**\") \n",
    "\n",
    "# Frequency of Purchases by customers\n",
    "printmd(\"**Frequency of Purchases by customers**\")\n",
    "purchase_counts = customer_data.groupby('customer_id')['order_id'].nunique()\n",
    "display(purchase_counts.head())\n",
    "\n",
    "# Total Spending by customers\n",
    "printmd(\"**Total Spending by customers**\")\n",
    "total_spending = customer_data.groupby('customer_id')['price'].sum()\n",
    "display(total_spending.head())\n",
    "\n",
    "# Average Spending by each customer\n",
    "printmd(\"**Average Spending by customers**\")\n",
    "average_spending = customer_data.groupby('customer_id')['price'].mean().reset_index(name='average_spending')\n",
    "display(average_spending.head())\n",
    "\n",
    "# Identify the most frequently purchased products\n",
    "product_counts = order_data['name'].value_counts().reset_index()\n",
    "product_counts.columns = ['product_name', 'purchase_count']\n",
    "most_purchased_products = product_counts.head(5)\n",
    "\n",
    "# Analyze purchase frequency\n",
    "purchase_dates = order_data['checked_out_at'].sort_values()\n",
    "time_between_purchases = purchase_dates.diff().dt.days\n",
    "avg_days_between_purchases = time_between_purchases.mean()\n",
    "\n",
    "printmd(\"**Most Frequently Purchased Products:**\")\n",
    "display(most_purchased_products)\n",
    "printmd(f\"\\n**Average Days Between Purchases:** {avg_days_between_purchases:.2f}\")\n",
    "\n",
    "# Checkout Patterns\n",
    "checkout_patterns = customer_data.groupby(['Hour', 'Day']).size().unstack(fill_value=0)\n",
    "printmd(\"**Checkout Patterns:**\")\n",
    "display(checkout_patterns)\n",
    "\n",
    "recommendation = \"\"\"\n",
    "### Recommendations:\n",
    "Based on these insights, i can derive the following marketing strategies or personalized recommendations:\n",
    "\n",
    "- Increase Engagement: Encourage customers with low purchase frequency to make more purchases through targeted promotions or incentives.\n",
    "- Retention Strategies: Encourage repeat visits through loyalty programs or exclusive promotions.\n",
    "- Upsell/Cross-Sell: Recommend products similar to popular products to increase sales and improve customer satisfaction.\n",
    "- Targeted Offers: Based on purchase history, offer personalized discounts or product recommendations.\n",
    "- Optimize Marketing Timing: Schedule marketing campaigns during peak purchase hours, days, or months to maximize impact.\n",
    "- Improve Customer Experience: Analyze factors influencing average spending and adjust pricing or offer discounts to enhance customer experience and loyalty.\n",
    "- Targeted Promotions: Design targeted promotions based on customer location or purchase patterns to increase conversion rates.\n",
    "- Segmentation: Group customers based on behavior (e.g., frequent shoppers, occasional buyers).\n",
    "\"\"\"\n",
    "printmd(recommendation)"
   ]
  },
  {
   "cell_type": "code",
   "execution_count": 51,
   "id": "98f08d01-f169-4b7e-bee2-0dd15442e79c",
   "metadata": {},
   "outputs": [
    {
     "ename": "KeyError",
     "evalue": "'Column not found: event_time'",
     "output_type": "error",
     "traceback": [
      "\u001b[1;31m---------------------------------------------------------------------------\u001b[0m",
      "\u001b[1;31mKeyError\u001b[0m                                  Traceback (most recent call last)",
      "Cell \u001b[1;32mIn[51], line 2\u001b[0m\n\u001b[0;32m      1\u001b[0m \u001b[38;5;66;03m# Visit Frequency\u001b[39;00m\n\u001b[1;32m----> 2\u001b[0m visit_counts \u001b[38;5;241m=\u001b[39m \u001b[43mevents\u001b[49m\u001b[38;5;241;43m.\u001b[39;49m\u001b[43mgroupby\u001b[49m\u001b[43m(\u001b[49m\u001b[38;5;124;43m'\u001b[39;49m\u001b[38;5;124;43mcustomer_id\u001b[39;49m\u001b[38;5;124;43m'\u001b[39;49m\u001b[43m)\u001b[49m\u001b[43m[\u001b[49m\u001b[38;5;124;43m'\u001b[39;49m\u001b[38;5;124;43mevent_time\u001b[39;49m\u001b[38;5;124;43m'\u001b[39;49m\u001b[43m]\u001b[49m\u001b[38;5;241m.\u001b[39mnunique()\u001b[38;5;241m.\u001b[39mreset_index()\n\u001b[0;32m      3\u001b[0m visit_counts\u001b[38;5;241m.\u001b[39mcolumns \u001b[38;5;241m=\u001b[39m [\u001b[38;5;124m'\u001b[39m\u001b[38;5;124mcustomer_id\u001b[39m\u001b[38;5;124m'\u001b[39m, \u001b[38;5;124m'\u001b[39m\u001b[38;5;124mvisit_count\u001b[39m\u001b[38;5;124m'\u001b[39m]\n\u001b[0;32m      4\u001b[0m \u001b[38;5;28mprint\u001b[39m(\u001b[38;5;124m'\u001b[39m\u001b[38;5;124mVisit Frequency:\u001b[39m\u001b[38;5;124m'\u001b[39m)\n",
      "File \u001b[1;32m~\\AppData\\Local\\Programs\\Python\\Python311\\Lib\\site-packages\\pandas\\core\\groupby\\generic.py:1951\u001b[0m, in \u001b[0;36mDataFrameGroupBy.__getitem__\u001b[1;34m(self, key)\u001b[0m\n\u001b[0;32m   1944\u001b[0m \u001b[38;5;28;01mif\u001b[39;00m \u001b[38;5;28misinstance\u001b[39m(key, \u001b[38;5;28mtuple\u001b[39m) \u001b[38;5;129;01mand\u001b[39;00m \u001b[38;5;28mlen\u001b[39m(key) \u001b[38;5;241m>\u001b[39m \u001b[38;5;241m1\u001b[39m:\n\u001b[0;32m   1945\u001b[0m     \u001b[38;5;66;03m# if len == 1, then it becomes a SeriesGroupBy and this is actually\u001b[39;00m\n\u001b[0;32m   1946\u001b[0m     \u001b[38;5;66;03m# valid syntax, so don't raise\u001b[39;00m\n\u001b[0;32m   1947\u001b[0m     \u001b[38;5;28;01mraise\u001b[39;00m \u001b[38;5;167;01mValueError\u001b[39;00m(\n\u001b[0;32m   1948\u001b[0m         \u001b[38;5;124m\"\u001b[39m\u001b[38;5;124mCannot subset columns with a tuple with more than one element. \u001b[39m\u001b[38;5;124m\"\u001b[39m\n\u001b[0;32m   1949\u001b[0m         \u001b[38;5;124m\"\u001b[39m\u001b[38;5;124mUse a list instead.\u001b[39m\u001b[38;5;124m\"\u001b[39m\n\u001b[0;32m   1950\u001b[0m     )\n\u001b[1;32m-> 1951\u001b[0m \u001b[38;5;28;01mreturn\u001b[39;00m \u001b[38;5;28;43msuper\u001b[39;49m\u001b[43m(\u001b[49m\u001b[43m)\u001b[49m\u001b[38;5;241;43m.\u001b[39;49m\u001b[38;5;21;43m__getitem__\u001b[39;49m\u001b[43m(\u001b[49m\u001b[43mkey\u001b[49m\u001b[43m)\u001b[49m\n",
      "File \u001b[1;32m~\\AppData\\Local\\Programs\\Python\\Python311\\Lib\\site-packages\\pandas\\core\\base.py:244\u001b[0m, in \u001b[0;36mSelectionMixin.__getitem__\u001b[1;34m(self, key)\u001b[0m\n\u001b[0;32m    242\u001b[0m \u001b[38;5;28;01melse\u001b[39;00m:\n\u001b[0;32m    243\u001b[0m     \u001b[38;5;28;01mif\u001b[39;00m key \u001b[38;5;129;01mnot\u001b[39;00m \u001b[38;5;129;01min\u001b[39;00m \u001b[38;5;28mself\u001b[39m\u001b[38;5;241m.\u001b[39mobj:\n\u001b[1;32m--> 244\u001b[0m         \u001b[38;5;28;01mraise\u001b[39;00m \u001b[38;5;167;01mKeyError\u001b[39;00m(\u001b[38;5;124mf\u001b[39m\u001b[38;5;124m\"\u001b[39m\u001b[38;5;124mColumn not found: \u001b[39m\u001b[38;5;132;01m{\u001b[39;00mkey\u001b[38;5;132;01m}\u001b[39;00m\u001b[38;5;124m\"\u001b[39m)\n\u001b[0;32m    245\u001b[0m     ndim \u001b[38;5;241m=\u001b[39m \u001b[38;5;28mself\u001b[39m\u001b[38;5;241m.\u001b[39mobj[key]\u001b[38;5;241m.\u001b[39mndim\n\u001b[0;32m    246\u001b[0m     \u001b[38;5;28;01mreturn\u001b[39;00m \u001b[38;5;28mself\u001b[39m\u001b[38;5;241m.\u001b[39m_gotitem(key, ndim\u001b[38;5;241m=\u001b[39mndim)\n",
      "\u001b[1;31mKeyError\u001b[0m: 'Column not found: event_time'"
     ]
    }
   ],
   "source": [
    "# Visit Frequency\n",
    "visit_counts = events.groupby('customer_id')['event_time'].nunique().reset_index()\n",
    "visit_counts.columns = ['customer_id', 'visit_count']\n",
    "print('Visit Frequency:')\n",
    "print(visit_counts.head())\n",
    "\n",
    "# Location Analysis\n",
    "print('\\nLocation Analysis:')\n",
    "print(customers[customers['customer_id']==1][['city', 'country']].values[0])\n",
    "\n",
    "# Purchase Behavior\n",
    "purchase_data = customer_data[customer_data['customer_id']==1]\n",
    "print('\\nOverall Purchase Behavior:')\n",
    "print(f\"Number of orders: {purchase_data['order_id'].nunique()}\")\n",
    "print(f\"Number of products purchased: {purchase_data['product_id'].nunique()}\")\n",
    "print(f\"Most frequent product category: {purchase_data['category'].value_counts().idxmax()}\")\n"
   ]
  },
  {
   "cell_type": "code",
   "execution_count": null,
   "id": "0b8e3194-6983-40fe-b632-7a8388cb78e8",
   "metadata": {},
   "outputs": [],
   "source": []
  },
  {
   "cell_type": "code",
   "execution_count": null,
   "id": "84b96705-4ce0-45ff-a926-43f5c18096a5",
   "metadata": {},
   "outputs": [],
   "source": []
  }
 ],
 "metadata": {
  "kernelspec": {
   "display_name": "Python 3 (ipykernel)",
   "language": "python",
   "name": "python3"
  },
  "language_info": {
   "codemirror_mode": {
    "name": "ipython",
    "version": 3
   },
   "file_extension": ".py",
   "mimetype": "text/x-python",
   "name": "python",
   "nbconvert_exporter": "python",
   "pygments_lexer": "ipython3",
   "version": "3.11.5"
  },
  "toc": {
   "base_numbering": 1,
   "nav_menu": {},
   "number_sections": true,
   "sideBar": true,
   "skip_h1_title": false,
   "title_cell": "Table of Contents",
   "title_sidebar": "Contents",
   "toc_cell": false,
   "toc_position": {},
   "toc_section_display": true,
   "toc_window_display": false
  },
  "varInspector": {
   "cols": {
    "lenName": 16,
    "lenType": 16,
    "lenVar": 40
   },
   "kernels_config": {
    "python": {
     "delete_cmd_postfix": "",
     "delete_cmd_prefix": "del ",
     "library": "var_list.py",
     "varRefreshCmd": "print(var_dic_list())"
    },
    "r": {
     "delete_cmd_postfix": ") ",
     "delete_cmd_prefix": "rm(",
     "library": "var_list.r",
     "varRefreshCmd": "cat(var_dic_list()) "
    }
   },
   "types_to_exclude": [
    "module",
    "function",
    "builtin_function_or_method",
    "instance",
    "_Feature"
   ],
   "window_display": false
  }
 },
 "nbformat": 4,
 "nbformat_minor": 5
}
